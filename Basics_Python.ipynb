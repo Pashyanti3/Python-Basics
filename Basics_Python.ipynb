{
 "cells": [
  {
   "cell_type": "code",
   "execution_count": null,
   "id": "1ff3c9bf",
   "metadata": {},
   "outputs": [],
   "source": [
    "#Basic Syntax for python\n",
    "\n",
    "##In this file,we will learn about the basic syntax about python#"
   ]
  },
  {
   "cell_type": "markdown",
   "id": "2f979531",
   "metadata": {},
   "source": [
    "1.Python is case sensitive \n"
   ]
  },
  {
   "cell_type": "code",
   "execution_count": 6,
   "id": "f0a9c19a",
   "metadata": {},
   "outputs": [
    {
     "name": "stdout",
     "output_type": "stream",
     "text": [
      "Raju\n",
      "Ram\n"
     ]
    }
   ],
   "source": [
    "Name=\"Raju\"\n",
    "name=\"Ram\"\n",
    "print(Name)\n",
    "print(name)"
   ]
  },
  {
   "cell_type": "markdown",
   "id": "fdaf806a",
   "metadata": {},
   "source": [
    "1.Eventhough the meaning of the Name and name are same but due the case sensitive charactersitic of python it returns differet variables as the declaration we have given in the code."
   ]
  },
  {
   "cell_type": "markdown",
   "id": "994e82b8",
   "metadata": {},
   "source": [
    "2.Indentation:\n",
    "    Def :Indentation in python is used to define the structure and hierarchy of the code.consistent use of spaces (Commonly 4)ot tab is req."
   ]
  },
  {
   "cell_type": "code",
   "execution_count": 7,
   "id": "ea693812",
   "metadata": {},
   "outputs": [
    {
     "name": "stdout",
     "output_type": "stream",
     "text": [
      "You are eligible to vote\n"
     ]
    }
   ],
   "source": [
    "Age =20\n",
    "if Age>18:\n",
    "    print(\"You are eligible to vote\")\n",
    "else:\n",
    "    print(\"You are not eligible to vote\")   "
   ]
  },
  {
   "cell_type": "markdown",
   "id": "f176b255",
   "metadata": {},
   "source": [
    "\"#\" will use to denote the single line commands\n",
    "''' \n",
    "used to\n",
    "denote the multiline\n",
    "commands\n",
    "'''"
   ]
  },
  {
   "cell_type": "markdown",
   "id": "e45e92d1",
   "metadata": {},
   "source": [
    "3.Line Continuation\n",
    "will use [\\]after the line 1"
   ]
  },
  {
   "cell_type": "code",
   "execution_count": 8,
   "id": "f6fffe5f",
   "metadata": {},
   "outputs": [
    {
     "name": "stdout",
     "output_type": "stream",
     "text": [
      "550\n"
     ]
    }
   ],
   "source": [
    "Total = 10 + 20 + 30 + 40 + 50\\\n",
    "+ 60 + 70 + 80 + 90 + 100\n",
    "print(Total)"
   ]
  },
  {
   "cell_type": "markdown",
   "id": "97139ba4",
   "metadata": {},
   "source": [
    "4.Multile lines in single line"
   ]
  },
  {
   "cell_type": "code",
   "execution_count": 10,
   "id": "fc0f5529",
   "metadata": {},
   "outputs": [
    {
     "name": "stdout",
     "output_type": "stream",
     "text": [
      "308\n"
     ]
    }
   ],
   "source": [
    "x=14;y=22;z=x*y\n",
    "print(z)"
   ]
  },
  {
   "cell_type": "markdown",
   "id": "65e7fa39",
   "metadata": {},
   "source": [
    "#keywords\n",
    "These are the reserved words which have predefined meanings and Functionality\n",
    "Eg: If,Elif,class etc...."
   ]
  },
  {
   "cell_type": "markdown",
   "id": "43676df9",
   "metadata": {},
   "source": [
    "Variables:while declaring the variable do not use the keywords which the interpriter will consider them as keywords instead of variables:\n",
    "Def:variables are used to store data that can be referenced and manipulated during program execution.\n",
    "operator =,for assigning the value\n",
    "Ex : a=20\n",
    "Naming Rules:\n",
    "Variable names must start with a letter (a-z, A-Z) or an underscore (_).\n",
    "They can contain letters, numbers, and underscores.\n",
    "They cannot start with a number.\n",
    "They cannot contain spaces or special characters (e.g., !, @, #).\n",
    "Variable names are case-sensitive (e.g., age, Age, and AGE are distinct variables). \n",
    "\n"
   ]
  },
  {
   "cell_type": "markdown",
   "id": "0ee4c21d",
   "metadata": {},
   "source": [
    "Built-in types or Data types:\n",
    "Numeric,\n",
    "Dictionary,\n",
    "Boolean,\n",
    "Set,\n",
    "Sequence Type."
   ]
  },
  {
   "cell_type": "markdown",
   "id": "9f71e16c",
   "metadata": {},
   "source": [
    "Numeric which is nothing but interger unlike other previous programming languages in python we can assign variable in run time which means we can directly assign the value to the varible \n"
   ]
  },
  {
   "cell_type": "code",
   "execution_count": 1,
   "id": "83507f3e",
   "metadata": {},
   "outputs": [
    {
     "name": "stdout",
     "output_type": "stream",
     "text": [
      "10\n",
      "Hello\n"
     ]
    }
   ],
   "source": [
    "a=10\n",
    "b=\"Hello\"\n",
    "print(a)\n",
    "print(b)"
   ]
  },
  {
   "cell_type": "markdown",
   "id": "1a399559",
   "metadata": {},
   "source": [
    "Tuple:\n",
    "   A Tuple is a collection which is ordered and unchangeable,Tuples are written with round brackets()"
   ]
  },
  {
   "cell_type": "code",
   "execution_count": 3,
   "id": "67df230f",
   "metadata": {},
   "outputs": [
    {
     "name": "stdout",
     "output_type": "stream",
     "text": [
      "10\n",
      "20\n"
     ]
    }
   ],
   "source": [
    "a,b=10,20\n",
    "print(a)    \n",
    "print(b)"
   ]
  },
  {
   "cell_type": "markdown",
   "id": "dc47285f",
   "metadata": {},
   "source": [
    "LIST :\n",
    "    Which is similar like Tuple but in this we need to assign the variables in []\n",
    "\n"
   ]
  },
  {
   "cell_type": "code",
   "execution_count": 4,
   "id": "88985e7e",
   "metadata": {},
   "outputs": [
    {
     "name": "stdout",
     "output_type": "stream",
     "text": [
      "10\n",
      "Hello\n",
      "15.5\n"
     ]
    }
   ],
   "source": [
    "a,b,c=[10,\"Hello\",15.5]\n",
    "print(a)\n",
    "print(b)\n",
    "print(c)"
   ]
  },
  {
   "cell_type": "markdown",
   "id": "05af174b",
   "metadata": {},
   "source": [
    "Extended Sequential unpacking:\n",
    "                      It allows us to be more flexible in how we select portions of a sequence to assign\n",
    "                    "
   ]
  },
  {
   "cell_type": "code",
   "execution_count": 5,
   "id": "655ce91a",
   "metadata": {},
   "outputs": [
    {
     "name": "stdout",
     "output_type": "stream",
     "text": [
      "W\n",
      "['e', 'l', 'c', 'o', 'm', 'e', ' ', 't', 'o', ' ', 'P', 'y', 't', 'h', 'o', 'n']\n"
     ]
    }
   ],
   "source": [
    "a,*b=\"Welcome to Python\"\n",
    "print(a)\n",
    "print(b)"
   ]
  },
  {
   "cell_type": "markdown",
   "id": "e4d5b778",
   "metadata": {},
   "source": [
    "Multiple Target Assignment:\n",
    "                          It assigns same values to the multiple variables"
   ]
  },
  {
   "cell_type": "code",
   "execution_count": 6,
   "id": "7318a664",
   "metadata": {},
   "outputs": [
    {
     "name": "stdout",
     "output_type": "stream",
     "text": [
      "Hello\n",
      "Hello\n",
      "Hello\n"
     ]
    }
   ],
   "source": [
    "a=b=c=\"Hello\"\n",
    "print(a)\n",
    "print(b)\n",
    "print(c)"
   ]
  },
  {
   "cell_type": "markdown",
   "id": "1bfc0b60",
   "metadata": {},
   "source": [
    "Augmented Assignment:\n",
    "                     In this assignmet we will use the same varial for before and after applying the oprations"
   ]
  },
  {
   "cell_type": "code",
   "execution_count": 8,
   "id": "715e4762",
   "metadata": {},
   "outputs": [
    {
     "name": "stdout",
     "output_type": "stream",
     "text": [
      "60\n",
      "70\n",
      "<class 'int'>\n"
     ]
    }
   ],
   "source": [
    "a=50\n",
    "a=a+10\n",
    "print(a)\n",
    "a+=10\n",
    "print(a)\n",
    "print(type(a))"
   ]
  },
  {
   "cell_type": "markdown",
   "id": "c928d6e5",
   "metadata": {},
   "source": [
    "Type casting:\n",
    "   If we need to concatinate 2 different types of variables such as if we needs to concatinate string variable with integer it won't allow,hence we use type casting    "
   ]
  },
  {
   "cell_type": "code",
   "execution_count": 11,
   "id": "6997f6d9",
   "metadata": {},
   "outputs": [
    {
     "ename": "TypeError",
     "evalue": "can only concatenate str (not \"int\") to str",
     "output_type": "error",
     "traceback": [
      "\u001b[31m---------------------------------------------------------------------------\u001b[39m",
      "\u001b[31mTypeError\u001b[39m                                 Traceback (most recent call last)",
      "\u001b[36mCell\u001b[39m\u001b[36m \u001b[39m\u001b[32mIn[11]\u001b[39m\u001b[32m, line 3\u001b[39m\n\u001b[32m      1\u001b[39m Type1=\u001b[33m\"\u001b[39m\u001b[33mHello\u001b[39m\u001b[33m\"\u001b[39m\n\u001b[32m      2\u001b[39m Type2=\u001b[32m20\u001b[39m    \n\u001b[32m----> \u001b[39m\u001b[32m3\u001b[39m T=\u001b[43mType1\u001b[49m\u001b[43m+\u001b[49m\u001b[43mType2\u001b[49m\n\u001b[32m      4\u001b[39m \u001b[38;5;28mprint\u001b[39m(T)  \u001b[38;5;66;03m# This will raise an error because we cannot concatenate string and integer directly\u001b[39;00m\n",
      "\u001b[31mTypeError\u001b[39m: can only concatenate str (not \"int\") to str"
     ]
    }
   ],
   "source": [
    "Type1=\"Hello\"\n",
    "Type2=20    \n",
    "T=Type1+Type2\n",
    "print(T)  # This will raise an error because we cannot concatenate string and integer directly"
   ]
  },
  {
   "cell_type": "code",
   "execution_count": 12,
   "id": "6c032492",
   "metadata": {},
   "outputs": [
    {
     "name": "stdout",
     "output_type": "stream",
     "text": [
      "Hello20\n"
     ]
    }
   ],
   "source": [
    "T=Type1+str(Type2)  # Type casting to convert integer to string\n",
    "print(T)  # Now it will work as we have converted Type2 to string"
   ]
  },
  {
   "cell_type": "markdown",
   "id": "e96d295b",
   "metadata": {},
   "source": [
    "Input and Output Functions:\n",
    "Input :\n",
    "     This function is used to give the input value in runtime,Whenever we are using the input fun by default it will consider as string.\n",
    "     1.Without req message\n",
    "     2.With req message\n",
    "     \n",
    "To convert the type of the given variable need to use int,float,str functions,\n",
    "It is not possibe to convert the string value to int in this case."
   ]
  },
  {
   "cell_type": "code",
   "execution_count": 18,
   "id": "8d060407",
   "metadata": {},
   "outputs": [
    {
     "name": "stdout",
     "output_type": "stream",
     "text": [
      "890\n",
      "<class 'str'>\n",
      "<class 'int'>\n"
     ]
    }
   ],
   "source": [
    "a=input()\n",
    "print(a)\n",
    "print(type(a))# By default input is taken as string\n",
    "b=int(a)  # Type casting to convert string to integer\n",
    "print(type(b))    "
   ]
  },
  {
   "cell_type": "code",
   "execution_count": 15,
   "id": "8ca012f0",
   "metadata": {},
   "outputs": [
    {
     "name": "stdout",
     "output_type": "stream",
     "text": [
      "Name\n"
     ]
    }
   ],
   "source": [
    "a= input(\"Enter your name: \")\n",
    "print(a)"
   ]
  },
  {
   "cell_type": "markdown",
   "id": "d37128bd",
   "metadata": {},
   "source": [
    "Split:\n",
    "  Assigning multiple values in one variable using split,which differentiates the given variable using space.\n",
    "  While giving the input need to give multiple variables by clicking the space between one variable to another variable.\n",
    "  Will convert the given input values into list of the values.\n"
   ]
  },
  {
   "cell_type": "code",
   "execution_count": 28,
   "id": "6f4fa171",
   "metadata": {},
   "outputs": [
    {
     "name": "stdout",
     "output_type": "stream",
     "text": [
      "['45', '46', '468', '38']\n"
     ]
    }
   ],
   "source": [
    "a=input().split()\n",
    "print(a)  # This will take input and split it into a list of words based on\n"
   ]
  },
  {
   "cell_type": "code",
   "execution_count": 30,
   "id": "5ea9d133",
   "metadata": {},
   "outputs": [
    {
     "name": "stdout",
     "output_type": "stream",
     "text": [
      "<class 'list'>\n"
     ]
    }
   ],
   "source": [
    "a=(input(\"Enter the value \").split())\n",
    "print(type(a))"
   ]
  },
  {
   "cell_type": "markdown",
   "id": "000d34c1",
   "metadata": {},
   "source": [
    "Output function:\n",
    "            Print function is used display the output.\n"
   ]
  },
  {
   "cell_type": "code",
   "execution_count": null,
   "id": "a2cd7c4b",
   "metadata": {},
   "outputs": [
    {
     "name": "stdout",
     "output_type": "stream",
     "text": [
      "Wecome to jupiter notebook\n"
     ]
    }
   ],
   "source": [
    "print(\"Welcome to Jupyter Notebook\")\n"
   ]
  },
  {
   "cell_type": "code",
   "execution_count": 32,
   "id": "f3f5c97c",
   "metadata": {},
   "outputs": [
    {
     "name": "stdout",
     "output_type": "stream",
     "text": [
      "Hello\n",
      "Welcome to Jupyter Notebook\n"
     ]
    }
   ],
   "source": [
    "print(\"Hello\")\n",
    "print(\"Welcome to Jupyter Notebook\")"
   ]
  },
  {
   "cell_type": "code",
   "execution_count": 33,
   "id": "25840dba",
   "metadata": {},
   "outputs": [
    {
     "name": "stdout",
     "output_type": "stream",
     "text": [
      "The value of a : 10\n",
      "The value of b : Hello\n"
     ]
    }
   ],
   "source": [
    "a=10\n",
    "b=\"Hello\"\n",
    "print(\"The value of a :\", a)\n",
    "print(\"The value of b :\", b)"
   ]
  },
  {
   "cell_type": "code",
   "execution_count": 34,
   "id": "19f64fdc",
   "metadata": {},
   "outputs": [
    {
     "name": "stdout",
     "output_type": "stream",
     "text": [
      "Hello every one\n"
     ]
    }
   ],
   "source": [
    "print(\"Hello\", \"every\", \"one\")"
   ]
  },
  {
   "cell_type": "markdown",
   "id": "f48149e0",
   "metadata": {},
   "source": [
    "End Operator:\n",
    "            By using the End operator we can add the multiline print statements into single line."
   ]
  },
  {
   "cell_type": "code",
   "execution_count": 35,
   "id": "cfcc0072",
   "metadata": {},
   "outputs": [
    {
     "name": "stdout",
     "output_type": "stream",
     "text": [
      "Hello every one\n"
     ]
    }
   ],
   "source": [
    "print(\"Hello\",end=\" \")\n",
    "print(\"every\",end=\" \")\n",
    "print(\"one\")"
   ]
  },
  {
   "cell_type": "markdown",
   "id": "ce50921e",
   "metadata": {},
   "source": [
    "Formatting Specifiers:\n",
    "             This is useful for number and float data types.            "
   ]
  },
  {
   "cell_type": "code",
   "execution_count": 49,
   "id": "1993f18a",
   "metadata": {},
   "outputs": [
    {
     "name": "stdout",
     "output_type": "stream",
     "text": [
      "The value of a is: 30\n",
      "The value of b is: 45.55\n",
      "30 is interger and 45.550000 is Float\n"
     ]
    }
   ],
   "source": [
    "a=30\n",
    "b=45.55\n",
    "print(\"The value of a is: %d\" % a)\n",
    "print(\"The value of b is: %.2f\" % b)\n",
    "print(\"%d is interger and %f is Float\"%(a,b))"
   ]
  },
  {
   "cell_type": "code",
   "execution_count": 37,
   "id": "6034d696",
   "metadata": {},
   "outputs": [
    {
     "name": "stdout",
     "output_type": "stream",
     "text": [
      "The value of A is: 0.75\n"
     ]
    }
   ],
   "source": [
    "A=3/4\n",
    "print(\"The value of A is: %.2f\" % A)    "
   ]
  },
  {
   "cell_type": "code",
   "execution_count": 38,
   "id": "29c03d92",
   "metadata": {},
   "outputs": [
    {
     "name": "stdout",
     "output_type": "stream",
     "text": [
      "The value of A is: 0.750000\n"
     ]
    }
   ],
   "source": [
    "A=3/4\n",
    "print(\"The value of A is: %f\" % A)   "
   ]
  },
  {
   "cell_type": "code",
   "execution_count": 39,
   "id": "a27fdb34",
   "metadata": {},
   "outputs": [
    {
     "name": "stdout",
     "output_type": "stream",
     "text": [
      "The value of A is: 0.750\n"
     ]
    }
   ],
   "source": [
    "A=3/4\n",
    "print(\"The value of A is: %.3f\" % A)   "
   ]
  },
  {
   "cell_type": "markdown",
   "id": "a0465720",
   "metadata": {},
   "source": [
    "Seperation function:\n",
    "                  It will use to define the separation between the words\n",
    "                  "
   ]
  },
  {
   "cell_type": "code",
   "execution_count": 48,
   "id": "74d4ba95",
   "metadata": {},
   "outputs": [
    {
     "name": "stdout",
     "output_type": "stream",
     "text": [
      "Welcome to Juypter Notebook -  Thank you\n"
     ]
    }
   ],
   "source": [
    "print(\"Welcome to Juypter Notebook\",\"- \",\"Thank you\",sep=\" \")"
   ]
  },
  {
   "cell_type": "markdown",
   "id": "d31cbe3d",
   "metadata": {},
   "source": [
    "Oprators:\n",
    "        1.Arthematic Operators\n",
    "        2.Comparision Operators\n",
    "        3.Logical \n",
    "        "
   ]
  },
  {
   "cell_type": "code",
   "execution_count": null,
   "id": "e63b79c7",
   "metadata": {},
   "outputs": [
    {
     "name": "stdout",
     "output_type": "stream",
     "text": [
      "50\n"
     ]
    }
   ],
   "source": [
    "#Addition(+)\n",
    "a=30+20\n",
    "print(a)"
   ]
  },
  {
   "cell_type": "code",
   "execution_count": null,
   "id": "4351016d",
   "metadata": {},
   "outputs": [
    {
     "name": "stdout",
     "output_type": "stream",
     "text": [
      "10\n"
     ]
    }
   ],
   "source": [
    "#substraction(-)\n",
    "a=30-20\n",
    "print(a)"
   ]
  },
  {
   "cell_type": "code",
   "execution_count": null,
   "id": "7e6bcc2a",
   "metadata": {},
   "outputs": [
    {
     "name": "stdout",
     "output_type": "stream",
     "text": [
      "600\n"
     ]
    }
   ],
   "source": [
    "#multiplication(*)\n",
    "a=30*20\n",
    "print(a)    "
   ]
  },
  {
   "cell_type": "code",
   "execution_count": null,
   "id": "92a4021a",
   "metadata": {},
   "outputs": [
    {
     "name": "stdout",
     "output_type": "stream",
     "text": [
      "1.5\n"
     ]
    }
   ],
   "source": [
    "#devision(/)\n",
    "a=30/20\n",
    "print(a)     "
   ]
  },
  {
   "cell_type": "code",
   "execution_count": null,
   "id": "db8d1a3c",
   "metadata": {},
   "outputs": [
    {
     "name": "stdout",
     "output_type": "stream",
     "text": [
      "1\n"
     ]
    }
   ],
   "source": [
    "#floor division:It will return the value without decimal(//)\n",
    "a=30//20   \n",
    "print(a) "
   ]
  },
  {
   "cell_type": "code",
   "execution_count": null,
   "id": "43522e96",
   "metadata": {},
   "outputs": [
    {
     "name": "stdout",
     "output_type": "stream",
     "text": [
      "10\n"
     ]
    }
   ],
   "source": [
    "#modulus : it wil teturn the reminder value(%)\n",
    "a=30%20\n",
    "print(a)    "
   ]
  },
  {
   "cell_type": "code",
   "execution_count": null,
   "id": "d666d0d4",
   "metadata": {},
   "outputs": [
    {
     "data": {
      "text/plain": [
       "False"
      ]
     },
     "execution_count": 61,
     "metadata": {},
     "output_type": "execute_result"
    }
   ],
   "source": [
    "##Comparison Operators:Equl to(==)\n",
    "# # It will compare two values and return True or False\n",
    "a=10\n",
    "b=40\n",
    "a==b"
   ]
  },
  {
   "cell_type": "code",
   "execution_count": 63,
   "id": "190a8b54",
   "metadata": {},
   "outputs": [
    {
     "data": {
      "text/plain": [
       "False"
      ]
     },
     "execution_count": 63,
     "metadata": {},
     "output_type": "execute_result"
    }
   ],
   "source": [
    "str1=\"Hello\"\n",
    "str2=\"Hell\"\n",
    "str1==str2"
   ]
  },
  {
   "cell_type": "code",
   "execution_count": 66,
   "id": "9ca77a83",
   "metadata": {},
   "outputs": [
    {
     "data": {
      "text/plain": [
       "True"
      ]
     },
     "execution_count": 66,
     "metadata": {},
     "output_type": "execute_result"
    }
   ],
   "source": [
    "str1=\"Hello\"\n",
    "str2=\"Hello\"\n",
    "str1==str2"
   ]
  },
  {
   "cell_type": "code",
   "execution_count": 70,
   "id": "c28c72e2",
   "metadata": {},
   "outputs": [
    {
     "data": {
      "text/plain": [
       "False"
      ]
     },
     "execution_count": 70,
     "metadata": {},
     "output_type": "execute_result"
    }
   ],
   "source": [
    "##Comparison Operators:Not Equl to(!=)\n",
    "# # It will compare two values and return True or False\n",
    "a=10\n",
    "b=10    \n",
    "a!=b"
   ]
  },
  {
   "cell_type": "code",
   "execution_count": 71,
   "id": "8b3dd804",
   "metadata": {},
   "outputs": [
    {
     "data": {
      "text/plain": [
       "True"
      ]
     },
     "execution_count": 71,
     "metadata": {},
     "output_type": "execute_result"
    }
   ],
   "source": [
    "a=\"Hai\"\n",
    "b=\"hai\" \n",
    "a!=b"
   ]
  },
  {
   "cell_type": "code",
   "execution_count": null,
   "id": "8e67b971",
   "metadata": {},
   "outputs": [
    {
     "data": {
      "text/plain": [
       "False"
      ]
     },
     "execution_count": 74,
     "metadata": {},
     "output_type": "execute_result"
    }
   ],
   "source": [
    "##Comparison Operators:#Greater than(>)\n",
    "# # It will compare two values and return True or False \n",
    "a=10\n",
    "b=40    \n",
    "a>b\n",
    "\n"
   ]
  },
  {
   "cell_type": "code",
   "execution_count": null,
   "id": "84b569cd",
   "metadata": {},
   "outputs": [
    {
     "data": {
      "text/plain": [
       "True"
      ]
     },
     "execution_count": 75,
     "metadata": {},
     "output_type": "execute_result"
    }
   ],
   "source": [
    "##Comparison Operators:#less than(<)\n",
    "# # It will compare two values and return True or False \n",
    "a=10\n",
    "b=40    \n",
    "a<b"
   ]
  },
  {
   "cell_type": "code",
   "execution_count": null,
   "id": "42cefd3f",
   "metadata": {},
   "outputs": [
    {
     "name": "stdout",
     "output_type": "stream",
     "text": [
      "False\n"
     ]
    }
   ],
   "source": [
    "##Comparison Operators:#Greater than or equal to(>=)\n",
    "# # It will compare two values and return True or False \n",
    "a=10\n",
    "b=40    \n",
    "print(a>=b)"
   ]
  },
  {
   "cell_type": "code",
   "execution_count": null,
   "id": "52e0a3b0",
   "metadata": {},
   "outputs": [
    {
     "name": "stdout",
     "output_type": "stream",
     "text": [
      "True\n"
     ]
    }
   ],
   "source": [
    "##Comparison Operators:#Less than or equal to(<=)\n",
    "# # It will compare two values and return True or False \n",
    "a=20\n",
    "b=20\n",
    "print(a<=b)"
   ]
  },
  {
   "cell_type": "markdown",
   "id": "67157cad",
   "metadata": {},
   "source": [
    "Logical Operators:\n",
    "AND\n",
    "OR\n",
    "NOT\n"
   ]
  },
  {
   "cell_type": "code",
   "execution_count": 80,
   "id": "42c24641",
   "metadata": {},
   "outputs": [
    {
     "name": "stdout",
     "output_type": "stream",
     "text": [
      "True\n"
     ]
    }
   ],
   "source": [
    "#And Operations:\n",
    "#Any two values are compared using AND operator, it will return True only if both values are True.\n",
    "#Otherwise, it will return False.\n",
    "'''0 - False\n",
    "   1 - True\n",
    "0 1 - 0\n",
    "1 1 - 1\n",
    "0 0 - 0 \n",
    "1 0 - 0\n",
    "'''\n",
    "#Eg\n",
    "a=True\n",
    "b=True\n",
    "c=a and b\n",
    "print(c)  # This will return True as both are True\n"
   ]
  },
  {
   "cell_type": "code",
   "execution_count": 81,
   "id": "768679e6",
   "metadata": {},
   "outputs": [
    {
     "name": "stdout",
     "output_type": "stream",
     "text": [
      "False\n"
     ]
    }
   ],
   "source": [
    "#Eg2\n",
    "a=False\n",
    "b=True\n",
    "d=a and b\n",
    "print(d)  # This will return False as one of the value is False "
   ]
  },
  {
   "cell_type": "code",
   "execution_count": 83,
   "id": "60518ca1",
   "metadata": {},
   "outputs": [
    {
     "name": "stdout",
     "output_type": "stream",
     "text": [
      "True\n"
     ]
    }
   ],
   "source": [
    "#OR Operations:\n",
    "#Any two values are compared using OR operator, it will return True if at least one value is True.\n",
    "#Otherwise, it will return False.   \n",
    "'''0 - False\n",
    "   1 - True\n",
    "0 1 - 1\n",
    "1 1 - 1 \n",
    "0 0 - 0\n",
    "1 0 - 1\n",
    "    '''\n",
    "#Eg\n",
    "a=True  \n",
    "b=False\n",
    "c=a or b    \n",
    "print(c)  # This will return True as one of the value is True"
   ]
  },
  {
   "cell_type": "code",
   "execution_count": 84,
   "id": "ef30cb4c",
   "metadata": {},
   "outputs": [
    {
     "name": "stdout",
     "output_type": "stream",
     "text": [
      "True\n"
     ]
    }
   ],
   "source": [
    "#Eg2\n",
    "a=True  \n",
    "b=True\n",
    "c=a or b    \n",
    "print(c)"
   ]
  },
  {
   "cell_type": "code",
   "execution_count": 85,
   "id": "3bf037bd",
   "metadata": {},
   "outputs": [
    {
     "name": "stdout",
     "output_type": "stream",
     "text": [
      "False\n",
      "True\n"
     ]
    }
   ],
   "source": [
    "#NOT Operations:\n",
    "#It will return the opposite value of the given value.  \n",
    "a=True\n",
    "b=False\n",
    "c=not a\n",
    "print(c)  # This will return False as a is True\n",
    "d=not b\n",
    "print(d)  # This will return True as b is False"
   ]
  },
  {
   "cell_type": "code",
   "execution_count": 93,
   "id": "d2269a78",
   "metadata": {},
   "outputs": [
    {
     "name": "stdout",
     "output_type": "stream",
     "text": [
      "Addition: 123.0\n",
      "Sub: 33.0\n",
      "Mul: 3510.0\n",
      "Div 1.73\n",
      "Floor Div: 1.0\n",
      "Mod: 33.0\n",
      "Exp: 1.3939818560920605e+85\n"
     ]
    }
   ],
   "source": [
    "# Simple Calculator\n",
    "\n",
    "Num1=float(input(\"Enter Num1:\"))\n",
    "Num2=float(input(\"Enter Num2:\"))\n",
    "#Input\n",
    "addition =Num1+Num2\n",
    "subtraction = Num1-Num2\n",
    "multiplication = Num1*Num2  \n",
    "division = Num1/Num2    \n",
    "floordivision = Num1//Num2\n",
    "modulus = Num1%Num2 \n",
    "exponential= Num1**Num2\n",
    "#O/P\n",
    "print(\"Addition:\",addition)\n",
    "print(\"Sub:\",subtraction)\n",
    "print(\"Mul:\",multiplication)\n",
    "print(\"Div %.2f\"%(division))\n",
    "print(\"Floor Div:\",floordivision)\n",
    "print(\"Mod:\",modulus)\n",
    "print(\"Exp:\",exponential)\n",
    "\n"
   ]
  }
 ],
 "metadata": {
  "kernelspec": {
   "display_name": "Python 3",
   "language": "python",
   "name": "python3"
  },
  "language_info": {
   "codemirror_mode": {
    "name": "ipython",
    "version": 3
   },
   "file_extension": ".py",
   "mimetype": "text/x-python",
   "name": "python",
   "nbconvert_exporter": "python",
   "pygments_lexer": "ipython3",
   "version": "3.12.0"
  }
 },
 "nbformat": 4,
 "nbformat_minor": 5
}
