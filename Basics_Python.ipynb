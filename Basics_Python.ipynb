{
 "cells": [
  {
   "cell_type": "code",
   "execution_count": null,
   "id": "1ff3c9bf",
   "metadata": {},
   "outputs": [],
   "source": [
    "#Basic Syntax for python\n",
    "\n",
    "##In this file,we will learn about the basic syntax about python#"
   ]
  },
  {
   "cell_type": "markdown",
   "id": "2f979531",
   "metadata": {},
   "source": [
    "1.Python is case sensitive \n"
   ]
  },
  {
   "cell_type": "code",
   "execution_count": 6,
   "id": "f0a9c19a",
   "metadata": {},
   "outputs": [
    {
     "name": "stdout",
     "output_type": "stream",
     "text": [
      "Raju\n",
      "Ram\n"
     ]
    }
   ],
   "source": [
    "Name=\"Raju\"\n",
    "name=\"Ram\"\n",
    "print(Name)\n",
    "print(name)"
   ]
  },
  {
   "cell_type": "markdown",
   "id": "fdaf806a",
   "metadata": {},
   "source": [
    "1.Eventhough the meaning of the Name and name is same but due the case sensitive charactersitic of python it returns differet variables as the declaration we have given in the code."
   ]
  },
  {
   "cell_type": "markdown",
   "id": "994e82b8",
   "metadata": {},
   "source": [
    "2.Indentation:\n",
    "    Def :Indentation in python is used to definethe structure and hierarchy of the code.consistent use of spaces (Commonly 4)ot tab is req."
   ]
  },
  {
   "cell_type": "code",
   "execution_count": 7,
   "id": "ea693812",
   "metadata": {},
   "outputs": [
    {
     "name": "stdout",
     "output_type": "stream",
     "text": [
      "You are eligible to vote\n"
     ]
    }
   ],
   "source": [
    "Age =20\n",
    "if Age>18:\n",
    "    print(\"You are eligible to vote\")\n",
    "else:\n",
    "    print(\"You are not eligible to vote\")   "
   ]
  },
  {
   "cell_type": "markdown",
   "id": "f176b255",
   "metadata": {},
   "source": [
    "\"#\" will use to denote the single line commands\n",
    "''' \n",
    "used to\n",
    "denote the multiline\n",
    "commands\n",
    "'''"
   ]
  },
  {
   "cell_type": "markdown",
   "id": "e45e92d1",
   "metadata": {},
   "source": [
    "3.Line Continuation\n",
    "will use [\\]after the line 1"
   ]
  },
  {
   "cell_type": "code",
   "execution_count": 8,
   "id": "f6fffe5f",
   "metadata": {},
   "outputs": [
    {
     "name": "stdout",
     "output_type": "stream",
     "text": [
      "550\n"
     ]
    }
   ],
   "source": [
    "Total = 10 + 20 + 30 + 40 + 50\\\n",
    "+ 60 + 70 + 80 + 90 + 100\n",
    "print(Total)"
   ]
  },
  {
   "cell_type": "markdown",
   "id": "95810175",
   "metadata": {},
   "source": [
    "Casting:\n",
    "  If we need to specify the data type of a variable"
   ]
  },
  {
   "cell_type": "code",
   "execution_count": 1,
   "id": "96f4c202",
   "metadata": {},
   "outputs": [
    {
     "data": {
      "text/plain": [
       "3.5"
      ]
     },
     "execution_count": 1,
     "metadata": {},
     "output_type": "execute_result"
    }
   ],
   "source": [
    "x=int(3)\n",
    "y=str(\"Hello\")\n",
    "float(3.5)\n"
   ]
  },
  {
   "cell_type": "markdown",
   "id": "97139ba4",
   "metadata": {},
   "source": [
    "4.Multile lines in single line"
   ]
  },
  {
   "cell_type": "code",
   "execution_count": 10,
   "id": "fc0f5529",
   "metadata": {},
   "outputs": [
    {
     "name": "stdout",
     "output_type": "stream",
     "text": [
      "308\n"
     ]
    }
   ],
   "source": [
    "x=14;y=22;z=x*y\n",
    "print(z)"
   ]
  },
  {
   "cell_type": "markdown",
   "id": "65e7fa39",
   "metadata": {},
   "source": [
    "#keywords\n",
    "These are the reserved words which have predefined meanings and Functionality\n",
    "Eg: If,Elif,class etc...."
   ]
  },
  {
   "cell_type": "markdown",
   "id": "43676df9",
   "metadata": {},
   "source": [
    "Variables:while declaring the variable do not use the keywords which the interpriter will consider them as keywords instead of variables:\n",
    "Def:variables are used to store data that can be referenced and manipulated during program execution.\n",
    "operator =,for assigning the value\n",
    "Ex : a=20\n",
    "Naming Rules:\n",
    "Variable names must start with a letter (a-z, A-Z) or an underscore (_).\n",
    "They can contain letters, numbers, and underscores.\n",
    "They cannot start with a number.\n",
    "They cannot contain spaces or special characters (e.g., !, @, #).\n",
    "Variable names are case-sensitive (e.g., age, Age, and AGE are distinct variables). \n",
    "\n"
   ]
  },
  {
   "cell_type": "code",
   "execution_count": null,
   "id": "daf20f45",
   "metadata": {},
   "outputs": [],
   "source": [
    "'''Built-in types or Data types:\n",
    "Text Type:\t    str\n",
    "Numeric Types:\tint, float, complex\n",
    "Sequence Types:\tlist, tuple, range\n",
    "Mapping Type:\tdict\n",
    "Set Types:\t    set, frozenset\n",
    "Boolean Type:\tbool\n",
    "Binary Types:\tbytes, bytearray, memoryview\n",
    "None Type:\t    NoneType\n",
    "'''"
   ]
  },
  {
   "cell_type": "markdown",
   "id": "9f71e16c",
   "metadata": {},
   "source": [
    "Numeric which is nothing but interger unlike other previous programming languagesin python we can assign variable in run time which means we can directly assign the value to the varible \n"
   ]
  },
  {
   "cell_type": "code",
   "execution_count": 1,
   "id": "83507f3e",
   "metadata": {},
   "outputs": [
    {
     "name": "stdout",
     "output_type": "stream",
     "text": [
      "10\n",
      "Hello\n"
     ]
    }
   ],
   "source": [
    "a=10\n",
    "b=\"Hello\"\n",
    "print(a)\n",
    "print(b)"
   ]
  },
  {
   "cell_type": "code",
   "execution_count": null,
   "id": "c853641b",
   "metadata": {},
   "outputs": [
    {
     "name": "stdout",
     "output_type": "stream",
     "text": [
      "Python is a scripting language\n",
      "Python is a programming language\n"
     ]
    }
   ],
   "source": [
    "# Global and Local Variables:Global variable is defined outside of a function and can be accessed anywhere in the code, while a local variable is defined within a function and can only be accessed within that function.\n",
    "#Local variables are created when a function is called and destroyed when the function exits. Global variables, on the other hand, persist throughout the program's execution.\n",
    "#Example of Global and Local Variables\n",
    "x=\"Python is a programming language\" # Global variable\n",
    "def myfun():\n",
    "    x=\"Python is a scripting language\" # Local variable\n",
    "    print(x)\n",
    "myfun() # This will print the local variable\n",
    "print(x) # This will print the global variable    \n"
   ]
  },
  {
   "cell_type": "markdown",
   "id": "1a399559",
   "metadata": {},
   "source": [
    "Tuple:\n",
    "    Tuple means assignning multiple values to the multiple variables in a single line is known as Tuple"
   ]
  },
  {
   "cell_type": "code",
   "execution_count": 3,
   "id": "67df230f",
   "metadata": {},
   "outputs": [
    {
     "name": "stdout",
     "output_type": "stream",
     "text": [
      "10\n",
      "20\n"
     ]
    }
   ],
   "source": [
    "a,b=10,20\n",
    "print(a)    \n",
    "print(b)"
   ]
  },
  {
   "cell_type": "markdown",
   "id": "dc47285f",
   "metadata": {},
   "source": [
    "LIST :\n",
    "    Which is similar like Tuple but in this we need to assign the variables in []\n",
    "\n"
   ]
  },
  {
   "cell_type": "code",
   "execution_count": 4,
   "id": "88985e7e",
   "metadata": {},
   "outputs": [
    {
     "name": "stdout",
     "output_type": "stream",
     "text": [
      "10\n",
      "Hello\n",
      "15.5\n"
     ]
    }
   ],
   "source": [
    "a,b,c=[10,\"Hello\",15.5]\n",
    "print(a)\n",
    "print(b)\n",
    "print(c)"
   ]
  },
  {
   "cell_type": "markdown",
   "id": "05af174b",
   "metadata": {},
   "source": [
    "Extended Sequential unpacking:\n",
    "                      It allows us to be more flexible in how we select portions of a sequence to assign\n",
    "                    "
   ]
  },
  {
   "cell_type": "code",
   "execution_count": 5,
   "id": "655ce91a",
   "metadata": {},
   "outputs": [
    {
     "name": "stdout",
     "output_type": "stream",
     "text": [
      "W\n",
      "['e', 'l', 'c', 'o', 'm', 'e', ' ', 't', 'o', ' ', 'P', 'y', 't', 'h', 'o', 'n']\n"
     ]
    }
   ],
   "source": [
    "a,*b=\"Welcome to Python\"\n",
    "print(a)\n",
    "print(b)"
   ]
  },
  {
   "cell_type": "markdown",
   "id": "e4d5b778",
   "metadata": {},
   "source": [
    "Multiple Target Assignment:\n",
    "                          It assigns same values to the multiple variables"
   ]
  },
  {
   "cell_type": "code",
   "execution_count": 6,
   "id": "7318a664",
   "metadata": {},
   "outputs": [
    {
     "name": "stdout",
     "output_type": "stream",
     "text": [
      "Hello\n",
      "Hello\n",
      "Hello\n"
     ]
    }
   ],
   "source": [
    "a=b=c=\"Hello\"\n",
    "print(a)\n",
    "print(b)\n",
    "print(c)"
   ]
  },
  {
   "cell_type": "markdown",
   "id": "1bfc0b60",
   "metadata": {},
   "source": [
    "Augmented Assignment:\n",
    "                     In this assignmet we will use the same varial for before and after applying the oprations"
   ]
  },
  {
   "cell_type": "code",
   "execution_count": 8,
   "id": "715e4762",
   "metadata": {},
   "outputs": [
    {
     "name": "stdout",
     "output_type": "stream",
     "text": [
      "60\n",
      "70\n",
      "<class 'int'>\n"
     ]
    }
   ],
   "source": [
    "a=50\n",
    "a=a+10\n",
    "print(a)\n",
    "a+=10\n",
    "print(a)\n",
    "print(type(a))"
   ]
  },
  {
   "cell_type": "markdown",
   "id": "c928d6e5",
   "metadata": {},
   "source": [
    "Type casting:\n",
    "   If we need to concatinate 2 different types of variables such as if we needs to concatinate string variable with integer it won't allow,hence we use type casting    "
   ]
  },
  {
   "cell_type": "code",
   "execution_count": 11,
   "id": "6997f6d9",
   "metadata": {},
   "outputs": [
    {
     "ename": "TypeError",
     "evalue": "can only concatenate str (not \"int\") to str",
     "output_type": "error",
     "traceback": [
      "\u001b[31m---------------------------------------------------------------------------\u001b[39m",
      "\u001b[31mTypeError\u001b[39m                                 Traceback (most recent call last)",
      "\u001b[36mCell\u001b[39m\u001b[36m \u001b[39m\u001b[32mIn[11]\u001b[39m\u001b[32m, line 3\u001b[39m\n\u001b[32m      1\u001b[39m Type1=\u001b[33m\"\u001b[39m\u001b[33mHello\u001b[39m\u001b[33m\"\u001b[39m\n\u001b[32m      2\u001b[39m Type2=\u001b[32m20\u001b[39m    \n\u001b[32m----> \u001b[39m\u001b[32m3\u001b[39m T=\u001b[43mType1\u001b[49m\u001b[43m+\u001b[49m\u001b[43mType2\u001b[49m\n\u001b[32m      4\u001b[39m \u001b[38;5;28mprint\u001b[39m(T)  \u001b[38;5;66;03m# This will raise an error because we cannot concatenate string and integer directly\u001b[39;00m\n",
      "\u001b[31mTypeError\u001b[39m: can only concatenate str (not \"int\") to str"
     ]
    }
   ],
   "source": [
    "Type1=\"Hello\"\n",
    "Type2=20    \n",
    "T=Type1+Type2\n",
    "print(T)  # This will raise an error because we cannot concatenate string and integer directly"
   ]
  },
  {
   "cell_type": "code",
   "execution_count": 12,
   "id": "6c032492",
   "metadata": {},
   "outputs": [
    {
     "name": "stdout",
     "output_type": "stream",
     "text": [
      "Hello20\n"
     ]
    }
   ],
   "source": [
    "T=Type1+str(Type2)  # Type casting to convert integer to string\n",
    "print(T)  # Now it will work as we have converted Type2 to string"
   ]
  },
  {
   "cell_type": "markdown",
   "id": "e96d295b",
   "metadata": {},
   "source": [
    "Input and Output Functions:\n",
    "Input :\n",
    "     This function is used to give the input value in runtime,Whenever we are using the input fun by default it will consider as string.\n",
    "     1.Without req message\n",
    "     2.With req message\n",
    "     \n",
    "To convert the type of the given variable need to use int,float,str functions,\n",
    "It is not possibe to convert the string value to int in this case."
   ]
  },
  {
   "cell_type": "code",
   "execution_count": 18,
   "id": "8d060407",
   "metadata": {},
   "outputs": [
    {
     "name": "stdout",
     "output_type": "stream",
     "text": [
      "890\n",
      "<class 'str'>\n",
      "<class 'int'>\n"
     ]
    }
   ],
   "source": [
    "a=input()\n",
    "print(a)\n",
    "print(type(a))# By default input is taken as string\n",
    "b=int(a)  # Type casting to convert string to integer\n",
    "print(type(b))    "
   ]
  },
  {
   "cell_type": "code",
   "execution_count": 15,
   "id": "8ca012f0",
   "metadata": {},
   "outputs": [
    {
     "name": "stdout",
     "output_type": "stream",
     "text": [
      "Name\n"
     ]
    }
   ],
   "source": [
    "a= input(\"Enter your name: \")\n",
    "print(a)"
   ]
  },
  {
   "cell_type": "markdown",
   "id": "d37128bd",
   "metadata": {},
   "source": [
    "Split:\n",
    "  Assigning multiple values in one variable using split,which differentiates the given variable using space.\n",
    "  While giving the input need to give multiple variables by clicking the space between one variable to another variable.\n",
    "  Will convert the given input values into list of the values.\n"
   ]
  },
  {
   "cell_type": "code",
   "execution_count": 23,
   "id": "6f4fa171",
   "metadata": {},
   "outputs": [
    {
     "name": "stdout",
     "output_type": "stream",
     "text": [
      "['89', '78', '7595']\n"
     ]
    }
   ],
   "source": [
    "a=input().split()\n",
    "print(a)  # This will take input and split it into a list of words based on\n"
   ]
  },
  {
   "cell_type": "code",
   "execution_count": 30,
   "id": "5ea9d133",
   "metadata": {},
   "outputs": [
    {
     "name": "stdout",
     "output_type": "stream",
     "text": [
      "<class 'list'>\n"
     ]
    }
   ],
   "source": [
    "a=(input(\"Enter the value \").split())\n",
    "print(type(a))"
   ]
  },
  {
   "cell_type": "markdown",
   "id": "000d34c1",
   "metadata": {},
   "source": [
    "Output function:\n",
    "            Print function is used display the output.\n"
   ]
  },
  {
   "cell_type": "code",
   "execution_count": null,
   "id": "a2cd7c4b",
   "metadata": {},
   "outputs": [
    {
     "name": "stdout",
     "output_type": "stream",
     "text": [
      "Wecome to jupiter notebook\n"
     ]
    }
   ],
   "source": [
    "print(\"Welcome to Jupyter Notebook\")\n"
   ]
  },
  {
   "cell_type": "code",
   "execution_count": null,
   "id": "f3f5c97c",
   "metadata": {},
   "outputs": [
    {
     "name": "stdout",
     "output_type": "stream",
     "text": [
      "Hello\n",
      "Welcome to Jupyter Notebook\n"
     ]
    }
   ],
   "source": [
    "\n",
    "print(\"Hello\")\n",
    "print(\"Welcome to Jupyter Notebook\")"
   ]
  },
  {
   "cell_type": "code",
   "execution_count": 33,
   "id": "25840dba",
   "metadata": {},
   "outputs": [
    {
     "name": "stdout",
     "output_type": "stream",
     "text": [
      "The value of a : 10\n",
      "The value of b : Hello\n"
     ]
    }
   ],
   "source": [
    "a=10\n",
    "b=\"Hello\"\n",
    "print(\"The value of a :\", a)\n",
    "print(\"The value of b :\", b)"
   ]
  },
  {
   "cell_type": "code",
   "execution_count": 34,
   "id": "19f64fdc",
   "metadata": {},
   "outputs": [
    {
     "name": "stdout",
     "output_type": "stream",
     "text": [
      "Hello every one\n"
     ]
    }
   ],
   "source": [
    "print(\"Hello\", \"every\", \"one\")"
   ]
  },
  {
   "cell_type": "markdown",
   "id": "f48149e0",
   "metadata": {},
   "source": [
    "End Operator:\n",
    "            By using the End operator we can add the multiline print statements into single line."
   ]
  },
  {
   "cell_type": "code",
   "execution_count": 35,
   "id": "cfcc0072",
   "metadata": {},
   "outputs": [
    {
     "name": "stdout",
     "output_type": "stream",
     "text": [
      "Hello every one\n"
     ]
    }
   ],
   "source": [
    "print(\"Hello\",end=\" \")\n",
    "print(\"every\",end=\" \")\n",
    "print(\"one\")"
   ]
  },
  {
   "cell_type": "markdown",
   "id": "ce50921e",
   "metadata": {},
   "source": [
    "Formatting Specifiers:\n",
    "             This is useful for number and float data types.            "
   ]
  },
  {
   "cell_type": "code",
   "execution_count": 49,
   "id": "1993f18a",
   "metadata": {},
   "outputs": [
    {
     "name": "stdout",
     "output_type": "stream",
     "text": [
      "The value of a is: 30\n",
      "The value of b is: 45.55\n",
      "30 is interger and 45.550000 is Float\n"
     ]
    }
   ],
   "source": [
    "a=30\n",
    "b=45.55\n",
    "print(\"The value of a is: %d\" % a)\n",
    "print(\"The value of b is: %.2f\" % b)\n",
    "print(\"%d is interger and %f is Float\"%(a,b))"
   ]
  },
  {
   "cell_type": "code",
   "execution_count": 37,
   "id": "6034d696",
   "metadata": {},
   "outputs": [
    {
     "name": "stdout",
     "output_type": "stream",
     "text": [
      "The value of A is: 0.75\n"
     ]
    }
   ],
   "source": [
    "A=3/4\n",
    "print(\"The value of A is: %.2f\" % A)    "
   ]
  },
  {
   "cell_type": "code",
   "execution_count": 38,
   "id": "29c03d92",
   "metadata": {},
   "outputs": [
    {
     "name": "stdout",
     "output_type": "stream",
     "text": [
      "The value of A is: 0.750000\n"
     ]
    }
   ],
   "source": [
    "A=3/4\n",
    "print(\"The value of A is: %f\" % A)   "
   ]
  },
  {
   "cell_type": "code",
   "execution_count": 39,
   "id": "a27fdb34",
   "metadata": {},
   "outputs": [
    {
     "name": "stdout",
     "output_type": "stream",
     "text": [
      "The value of A is: 0.750\n"
     ]
    }
   ],
   "source": [
    "A=3/4\n",
    "print(\"The value of A is: %.3f\" % A)   "
   ]
  },
  {
   "cell_type": "markdown",
   "id": "a0465720",
   "metadata": {},
   "source": [
    "Seperation function:\n",
    "                  It will use to define the separation between the words\n",
    "                  "
   ]
  },
  {
   "cell_type": "code",
   "execution_count": 48,
   "id": "74d4ba95",
   "metadata": {},
   "outputs": [
    {
     "name": "stdout",
     "output_type": "stream",
     "text": [
      "Welcome to Juypter Notebook -  Thank you\n"
     ]
    }
   ],
   "source": [
    "print(\"Welcome to Juypter Notebook\",\"- \",\"Thank you\",sep=\" \")"
   ]
  },
  {
   "cell_type": "markdown",
   "id": "d31cbe3d",
   "metadata": {},
   "source": [
    "Oprators:\n",
    "        1.Arthematic Operators\n",
    "        2.Comparision Operators\n",
    "        3.Logical \n",
    "        "
   ]
  },
  {
   "cell_type": "code",
   "execution_count": null,
   "id": "e63b79c7",
   "metadata": {},
   "outputs": [
    {
     "name": "stdout",
     "output_type": "stream",
     "text": [
      "50\n"
     ]
    }
   ],
   "source": [
    "#Addition(+)\n",
    "a=30+20\n",
    "print(a)"
   ]
  },
  {
   "cell_type": "code",
   "execution_count": null,
   "id": "4351016d",
   "metadata": {},
   "outputs": [
    {
     "name": "stdout",
     "output_type": "stream",
     "text": [
      "10\n"
     ]
    }
   ],
   "source": [
    "#substraction(-)\n",
    "a=30-20\n",
    "print(a)"
   ]
  },
  {
   "cell_type": "code",
   "execution_count": null,
   "id": "7e6bcc2a",
   "metadata": {},
   "outputs": [
    {
     "name": "stdout",
     "output_type": "stream",
     "text": [
      "600\n"
     ]
    }
   ],
   "source": [
    "#multiplication(*)\n",
    "a=30*20\n",
    "print(a)    "
   ]
  },
  {
   "cell_type": "code",
   "execution_count": null,
   "id": "92a4021a",
   "metadata": {},
   "outputs": [
    {
     "name": "stdout",
     "output_type": "stream",
     "text": [
      "1.5\n"
     ]
    }
   ],
   "source": [
    "#devision(/)\n",
    "a=30/20\n",
    "print(a)     "
   ]
  },
  {
   "cell_type": "code",
   "execution_count": null,
   "id": "db8d1a3c",
   "metadata": {},
   "outputs": [
    {
     "name": "stdout",
     "output_type": "stream",
     "text": [
      "1\n"
     ]
    }
   ],
   "source": [
    "#floor division:It will return the value without decimal(//)\n",
    "a=30//20   \n",
    "print(a) "
   ]
  },
  {
   "cell_type": "code",
   "execution_count": null,
   "id": "43522e96",
   "metadata": {},
   "outputs": [
    {
     "name": "stdout",
     "output_type": "stream",
     "text": [
      "10\n"
     ]
    }
   ],
   "source": [
    "#modulus : it wil teturn the reminder value(%)\n",
    "a=30%20\n",
    "print(a)    "
   ]
  },
  {
   "cell_type": "code",
   "execution_count": null,
   "id": "d666d0d4",
   "metadata": {},
   "outputs": [
    {
     "data": {
      "text/plain": [
       "False"
      ]
     },
     "execution_count": 61,
     "metadata": {},
     "output_type": "execute_result"
    }
   ],
   "source": [
    "##Comparison Operators:Equl to(==)\n",
    "# # It will compare two values and return True or False\n",
    "a=10\n",
    "b=40\n",
    "a==b"
   ]
  },
  {
   "cell_type": "code",
   "execution_count": 63,
   "id": "190a8b54",
   "metadata": {},
   "outputs": [
    {
     "data": {
      "text/plain": [
       "False"
      ]
     },
     "execution_count": 63,
     "metadata": {},
     "output_type": "execute_result"
    }
   ],
   "source": [
    "str1=\"Hello\"\n",
    "str2=\"Hell\"\n",
    "str1==str2"
   ]
  },
  {
   "cell_type": "code",
   "execution_count": 66,
   "id": "9ca77a83",
   "metadata": {},
   "outputs": [
    {
     "data": {
      "text/plain": [
       "True"
      ]
     },
     "execution_count": 66,
     "metadata": {},
     "output_type": "execute_result"
    }
   ],
   "source": [
    "str1=\"Hello\"\n",
    "str2=\"Hello\"\n",
    "str1==str2"
   ]
  },
  {
   "cell_type": "code",
   "execution_count": 70,
   "id": "c28c72e2",
   "metadata": {},
   "outputs": [
    {
     "data": {
      "text/plain": [
       "False"
      ]
     },
     "execution_count": 70,
     "metadata": {},
     "output_type": "execute_result"
    }
   ],
   "source": [
    "##Comparison Operators:Not Equl to(!=)\n",
    "# # It will compare two values and return True or False\n",
    "a=10\n",
    "b=10    \n",
    "a!=b"
   ]
  },
  {
   "cell_type": "code",
   "execution_count": 71,
   "id": "8b3dd804",
   "metadata": {},
   "outputs": [
    {
     "data": {
      "text/plain": [
       "True"
      ]
     },
     "execution_count": 71,
     "metadata": {},
     "output_type": "execute_result"
    }
   ],
   "source": [
    "a=\"Hai\"\n",
    "b=\"hai\" \n",
    "a!=b"
   ]
  },
  {
   "cell_type": "code",
   "execution_count": null,
   "id": "8e67b971",
   "metadata": {},
   "outputs": [
    {
     "data": {
      "text/plain": [
       "False"
      ]
     },
     "execution_count": 74,
     "metadata": {},
     "output_type": "execute_result"
    }
   ],
   "source": [
    "##Comparison Operators:#Greater than(>)\n",
    "# # It will compare two values and return True or False \n",
    "a=10\n",
    "b=40    \n",
    "a>b\n",
    "\n"
   ]
  },
  {
   "cell_type": "code",
   "execution_count": null,
   "id": "84b569cd",
   "metadata": {},
   "outputs": [
    {
     "data": {
      "text/plain": [
       "True"
      ]
     },
     "execution_count": 75,
     "metadata": {},
     "output_type": "execute_result"
    }
   ],
   "source": [
    "##Comparison Operators:#less than(<)\n",
    "# # It will compare two values and return True or False \n",
    "a=10\n",
    "b=40    \n",
    "a<b"
   ]
  },
  {
   "cell_type": "code",
   "execution_count": null,
   "id": "42cefd3f",
   "metadata": {},
   "outputs": [
    {
     "name": "stdout",
     "output_type": "stream",
     "text": [
      "False\n"
     ]
    }
   ],
   "source": [
    "##Comparison Operators:#Greater than or equal to(>=)\n",
    "# # It will compare two values and return True or False \n",
    "a=10\n",
    "b=40    \n",
    "print(a>=b)"
   ]
  },
  {
   "cell_type": "code",
   "execution_count": null,
   "id": "52e0a3b0",
   "metadata": {},
   "outputs": [
    {
     "name": "stdout",
     "output_type": "stream",
     "text": [
      "True\n"
     ]
    }
   ],
   "source": [
    "##Comparison Operators:#Less than or equal to(<=)\n",
    "# # It will compare two values and return True or False \n",
    "a=20\n",
    "b=20\n",
    "print(a<=b)"
   ]
  },
  {
   "cell_type": "markdown",
   "id": "67157cad",
   "metadata": {},
   "source": [
    "Logical Operators:\n",
    "AND\n",
    "OR\n",
    "NOT\n"
   ]
  },
  {
   "cell_type": "code",
   "execution_count": 80,
   "id": "42c24641",
   "metadata": {},
   "outputs": [
    {
     "name": "stdout",
     "output_type": "stream",
     "text": [
      "True\n"
     ]
    }
   ],
   "source": [
    "#And Operations:\n",
    "#Any two values are compared using AND operator, it will return True only if both values are True.\n",
    "#Otherwise, it will return False.\n",
    "'''0 - False\n",
    "   1 - True\n",
    "0 1 - 0\n",
    "1 1 - 1\n",
    "0 0 - 0 \n",
    "1 0 - 0\n",
    "'''\n",
    "#Eg\n",
    "a=True\n",
    "b=True\n",
    "c=a and b\n",
    "print(c)  # This will return True as both are True\n"
   ]
  },
  {
   "cell_type": "code",
   "execution_count": 81,
   "id": "768679e6",
   "metadata": {},
   "outputs": [
    {
     "name": "stdout",
     "output_type": "stream",
     "text": [
      "False\n"
     ]
    }
   ],
   "source": [
    "#Eg2\n",
    "a=False\n",
    "b=True\n",
    "d=a and b\n",
    "print(d)  # This will return False as one of the value is False "
   ]
  },
  {
   "cell_type": "code",
   "execution_count": 83,
   "id": "60518ca1",
   "metadata": {},
   "outputs": [
    {
     "name": "stdout",
     "output_type": "stream",
     "text": [
      "True\n"
     ]
    }
   ],
   "source": [
    "#OR Operations:\n",
    "#Any two values are compared using OR operator, it will return True if at least one value is True.\n",
    "#Otherwise, it will return False.   \n",
    "'''0 - False\n",
    "   1 - True\n",
    "0 1 - 1\n",
    "1 1 - 1 \n",
    "0 0 - 0\n",
    "1 0 - 1\n",
    "    '''\n",
    "#Eg\n",
    "a=True  \n",
    "b=False\n",
    "c=a or b    \n",
    "print(c)  # This will return True as one of the value is True"
   ]
  },
  {
   "cell_type": "code",
   "execution_count": 84,
   "id": "ef30cb4c",
   "metadata": {},
   "outputs": [
    {
     "name": "stdout",
     "output_type": "stream",
     "text": [
      "True\n"
     ]
    }
   ],
   "source": [
    "#Eg2\n",
    "a=True  \n",
    "b=True\n",
    "c=a or b    \n",
    "print(c)"
   ]
  },
  {
   "cell_type": "code",
   "execution_count": 85,
   "id": "3bf037bd",
   "metadata": {},
   "outputs": [
    {
     "name": "stdout",
     "output_type": "stream",
     "text": [
      "False\n",
      "True\n"
     ]
    }
   ],
   "source": [
    "#NOT Operations:\n",
    "#It will return the opposite value of the given value.  \n",
    "a=True\n",
    "b=False\n",
    "c=not a\n",
    "print(c)  # This will return False as a is True\n",
    "d=not b\n",
    "print(d)  # This will return True as b is False"
   ]
  },
  {
   "cell_type": "code",
   "execution_count": 93,
   "id": "d2269a78",
   "metadata": {},
   "outputs": [
    {
     "name": "stdout",
     "output_type": "stream",
     "text": [
      "Addition: 123.0\n",
      "Sub: 33.0\n",
      "Mul: 3510.0\n",
      "Div 1.73\n",
      "Floor Div: 1.0\n",
      "Mod: 33.0\n",
      "Exp: 1.3939818560920605e+85\n"
     ]
    }
   ],
   "source": [
    "# Simple Calculator\n",
    "\n",
    "Num1=float(input(\"Enter Num1:\"))\n",
    "Num2=float(input(\"Enter Num2:\"))\n",
    "#Input\n",
    "addition =Num1+Num2\n",
    "subtraction = Num1-Num2\n",
    "multiplication = Num1*Num2  \n",
    "division = Num1/Num2    \n",
    "floordivision = Num1//Num2\n",
    "modulus = Num1%Num2 \n",
    "exponential= Num1**Num2\n",
    "#O/P\n",
    "print(\"Addition:\",addition)\n",
    "print(\"Sub:\",subtraction)\n",
    "print(\"Mul:\",multiplication)\n",
    "print(\"Div %.2f\"%(division))\n",
    "print(\"Floor Div:\",floordivision)\n",
    "print(\"Mod:\",modulus)\n",
    "print(\"Exp:\",exponential)\n",
    "\n"
   ]
  },
  {
   "cell_type": "code",
   "execution_count": 8,
   "id": "125882ac",
   "metadata": {},
   "outputs": [
    {
     "name": "stdout",
     "output_type": "stream",
     "text": [
      "H\n",
      "e\n",
      "l\n",
      "l\n",
      "o\n"
     ]
    }
   ],
   "source": [
    "for x in \"Hello\":\n",
    "    print(x)  # This will print each character in the string \"Hello\""
   ]
  },
  {
   "cell_type": "code",
   "execution_count": 3,
   "id": "8b805430",
   "metadata": {},
   "outputs": [
    {
     "name": "stdout",
     "output_type": "stream",
     "text": [
      "10 ,The given number is less than or equal to 20\n"
     ]
    }
   ],
   "source": [
    "#IF conditions:\n",
    "#If the condition is True, then the block of code inside the if statement will be executed.\n",
    "#If the condition is False, then the block of code inside the else statement will be executed   \n",
    "\n",
    "#Eg:\n",
    "a=10\n",
    "if a<=20:\n",
    "    print(a,\",\"\"The given number is less than or equal to 20\")\n",
    "    \n",
    "    "
   ]
  },
  {
   "cell_type": "code",
   "execution_count": 5,
   "id": "cac7b766",
   "metadata": {},
   "outputs": [
    {
     "name": "stdout",
     "output_type": "stream",
     "text": [
      "Hello, you are not Rama\n"
     ]
    }
   ],
   "source": [
    "##Else condition:\n",
    "#If the condition in the if statement is False, then the block of code inside the else statement will be executed.\n",
    "#Eg:\n",
    "Name=(input(\"Enter your name: \"))\n",
    "if Name==\"Rama\":\n",
    "    print(\"Hello Rama\")\n",
    "else:\n",
    "    print(\"Hello, you are not Rama\")\n"
   ]
  },
  {
   "cell_type": "code",
   "execution_count": 7,
   "id": "5ec47485",
   "metadata": {},
   "outputs": [
    {
     "name": "stdout",
     "output_type": "stream",
     "text": [
      "22.0  is an even number\n"
     ]
    }
   ],
   "source": [
    "#elif Condition:(else if which means we consider it as the condition to check)\n",
    "#If the condition in the if statement is False, then the block of code inside the elif statement will be executed.\n",
    "#Eg:\n",
    "a=float(input(\"Enter the value: \"))\n",
    "if a<10:\n",
    "    print(a,\" is below 10\")\n",
    "elif a%2==0:\n",
    "    print(a,\" is an even number\")\n",
    "else:\n",
    "    print(a,\"is greater than 10 and odd\")"
   ]
  },
  {
   "cell_type": "code",
   "execution_count": 8,
   "id": "998988b2",
   "metadata": {},
   "outputs": [
    {
     "name": "stdout",
     "output_type": "stream",
     "text": [
      "15 is a positive odd number\n"
     ]
    }
   ],
   "source": [
    "#Nested IF conditions:\n",
    "#It is used to check multiple conditions in a single if statement.  \n",
    "#Eg:\n",
    "a=int(input(\"Enter a number: \"))\n",
    "if a>0:\n",
    "    if a%2==0:\n",
    "        print(a,\"is a positive even number\")\n",
    "    else:\n",
    "        print(a,\"is a positive odd number\")"
   ]
  },
  {
   "cell_type": "code",
   "execution_count": 6,
   "id": "38f2a51f",
   "metadata": {},
   "outputs": [
    {
     "name": "stdout",
     "output_type": "stream",
     "text": [
      "Division: 0.51\n"
     ]
    }
   ],
   "source": [
    "# Simple Calculator using IF conditions\n",
    "Num1=float(input(\"Enter Num1:\"))\n",
    "Num2=float(input(\"Enter Num2:\"))\n",
    "operation = input(\"Enter the operation (+, -, *, /, //, %, **): \")\n",
    "if operation == '+':\n",
    "    result = Num1 + Num2    \n",
    "    print(\"Addition:\", result)\n",
    "elif operation == '-':\n",
    "    result = Num1 - Num2\n",
    "    print(\"Subtraction:\", result)    \n",
    "elif operation == '*':\n",
    "    result = Num1 * Num2    \n",
    "    print(\"Multiplication:\", result)\n",
    "elif operation == '/':\n",
    "    if Num2!==0:\n",
    "        result = Num1 / Num2 \n",
    "    print(\"Division: %.2f\" % result)\n",
    " \n",
    "elif operation == '//': \n",
    "    result = Num1 // Num2\n",
    "    print(\"Floor Division:\", result)\n",
    "elif operation == '%':\n",
    "    result = Num1 % Num2  \n",
    "    print(\"Modulus:\", result)  \n",
    "elif operation == '**':\n",
    "    result = Num1 ** Num2   \n",
    "    print(\"Exponential:\", result)\n",
    "else:\n",
    "    result = \"Error: Invalid operation\""
   ]
  },
  {
   "cell_type": "code",
   "execution_count": null,
   "id": "0f9a37e7",
   "metadata": {},
   "outputs": [
    {
     "name": "stdout",
     "output_type": "stream",
     "text": [
      "Name: Raju\n",
      "Age: 25\n",
      "Profession: Engineer\n",
      "Salary: 50000.0\n"
     ]
    }
   ],
   "source": [
    "##### DATA STRUCTURES:###\n",
    "#List Operations:\n",
    "#Lists are used to store multiple items in a single variable.\n",
    "#Lists are created using square brackets [] and can contain items of different data types.  \n",
    "Em_details = [\"Raju\", 25, \"Engineer\", 50000.0]\n",
    "print(\"Name:\", Em_details[0])\n",
    "print(\"Age:\", Em_details[1])\n",
    "print(\"Profession:\", Em_details[2]) \n",
    "print(\"Salary:\", Em_details[3])\n",
    "    \n",
    "    \n"
   ]
  },
  {
   "cell_type": "code",
   "execution_count": null,
   "id": "74f15d2c",
   "metadata": {},
   "outputs": [
    {
     "name": "stdout",
     "output_type": "stream",
     "text": [
      "Name: 50000.0\n",
      "Age: Engineer\n",
      "Profession: 25\n",
      "Salary: Raju\n"
     ]
    }
   ],
   "source": [
    "#LIst Indexing:#List indexing is used to access the items in a list using their index.\n",
    "#The index starts from 0, so the first item in the list has an index of 0, the second item has an index of 1, and so on.\n",
    "#Negative indexing can also be used to access items from the end of the list, where -1 is the last item, -2 is the second last item, and so on.\n",
    "Em_details = [\"Raju\", 25, \"Engineer\", 50000.0]\n",
    "print(\"Name:\", Em_details[-1])\n",
    "print(\"Age:\", Em_details[-2])\n",
    "print(\"Profession:\", Em_details[-3]) \n",
    "print(\"Salary:\", Em_details[-4])"
   ]
  },
  {
   "cell_type": "code",
   "execution_count": null,
   "id": "2d58ba65",
   "metadata": {},
   "outputs": [
    {
     "name": "stdout",
     "output_type": "stream",
     "text": [
      "['Raju', 25, 'Engineer']\n"
     ]
    }
   ],
   "source": [
    "Em_details = [\"Raju\", 25, \"Engineer\", 50000.0]\n",
    "print(Em_details[-5:-1])  # This will print the entire list except the last element\n"
   ]
  },
  {
   "cell_type": "code",
   "execution_count": 16,
   "id": "10101388",
   "metadata": {},
   "outputs": [
    {
     "name": "stdout",
     "output_type": "stream",
     "text": [
      "['Raju', 25, 'Data Scientist', 50000.0]\n"
     ]
    }
   ],
   "source": [
    "#modify the list:\n",
    "Em_details=[\"Raju\",25,\"Engineer\",50000.0]\n",
    "Em_details[2]=\"Data Scientist\"  # Modifying the profession\n",
    "print(Em_details)\n"
   ]
  },
  {
   "cell_type": "code",
   "execution_count": null,
   "id": "159f84d5",
   "metadata": {},
   "outputs": [
    {
     "name": "stdout",
     "output_type": "stream",
     "text": [
      "['Raju', 25, 'Engineer', 50000.0, '9years of experience']\n"
     ]
    }
   ],
   "source": [
    "\n",
    "#List Methods:\n",
    "#1.Append \n",
    "Em_details=[\"Raju\",25,\"Engineer\",50000.0]\n",
    "Em_details.append(\"9years of experience\")  # Appending a new item to the list\n",
    "print(Em_details)   "
   ]
  },
  {
   "cell_type": "code",
   "execution_count": 19,
   "id": "ade0c607",
   "metadata": {},
   "outputs": [
    {
     "name": "stdout",
     "output_type": "stream",
     "text": [
      "['L2', 'Raju', 25, 'Data Scientist', 50000.0, '9years of experience']\n"
     ]
    }
   ],
   "source": [
    "#2.Insert using index of the listed items\n",
    "Em_details=[\"Raju\",25,\"Engineer\",50000.0]\n",
    "Em_details[2]=\"Data Scientist\"  # Modifying the profession\n",
    "Em_details.append(\"9years of experience\")# Appending a new item to the list\n",
    "Em_details.insert(0,\"L2\")  # Inserting a new item at the beginning of the list\n",
    "print(Em_details)"
   ]
  },
  {
   "cell_type": "code",
   "execution_count": null,
   "id": "00d0e37e",
   "metadata": {},
   "outputs": [
    {
     "name": "stdout",
     "output_type": "stream",
     "text": [
      "['Raju', 25, 'Data Scients', 50000.0]\n"
     ]
    }
   ],
   "source": [
    "#3.Remove an item from the list:\n",
    "Em_details=[\"Raju\",25,\"Engineer\",\"Data Scients\",50000.0]\n",
    "Em_details.remove(\"Engineer\")  # Removing the item \"Engineer\" from the list\n",
    "print(Em_details)  # This will print the list after removing the item   "
   ]
  },
  {
   "cell_type": "code",
   "execution_count": 25,
   "id": "38cd623f",
   "metadata": {},
   "outputs": [
    {
     "name": "stdout",
     "output_type": "stream",
     "text": [
      "['Amala', 'Manoj', 'Raju', 'Rani']\n"
     ]
    }
   ],
   "source": [
    "#4.Sorting the list:Sorting a list arranges the items in a specific order, either ascending or descending.\n",
    "#Sorting can be done only between the same data types.\n",
    "New_joinies=[\"Raju\",\"Amala\",\"Rani\",\"Manoj\"]\n",
    "New_joinies.sort()  # This will sort the list in ascending order\n",
    "print(New_joinies)  # This will print the sorted list"
   ]
  },
  {
   "cell_type": "code",
   "execution_count": 30,
   "id": "8c7e3957",
   "metadata": {},
   "outputs": [
    {
     "name": "stdout",
     "output_type": "stream",
     "text": [
      "['Raju', 25, 'Engineer', 'Data Scients']\n"
     ]
    }
   ],
   "source": [
    "#POP :\n",
    "#The pop() method removes the item at the specified position in the list, or the last item if no index is specified.\n",
    "Em_details=[\"Raju\",25,\"Engineer\",\"Data Scients\",50000.0]\n",
    "Em_details.pop()  # This will remove the last item from the list\n",
    "print(Em_details)  # This will print the list after removing the last item"
   ]
  },
  {
   "cell_type": "code",
   "execution_count": 32,
   "id": "75aa2d0d",
   "metadata": {},
   "outputs": [
    {
     "name": "stdout",
     "output_type": "stream",
     "text": [
      "2\n"
     ]
    }
   ],
   "source": [
    "#Count\n",
    "#The count() method returns the number of times a specified value appears in the list.\n",
    "Em_details=[\"Raju\",25,\"Engineer\",\"Data Scients\",50000.0,\"Raju\"]\n",
    "print(Em_details.count(\"Raju\"))  # This will count the number of times \"Raju\" appears in the list\n",
    "\n"
   ]
  },
  {
   "cell_type": "code",
   "execution_count": 33,
   "id": "f87fba67",
   "metadata": {},
   "outputs": [
    {
     "name": "stdout",
     "output_type": "stream",
     "text": [
      "[50000.0, 'Engineer', 25, 'Raju']\n"
     ]
    }
   ],
   "source": [
    "#Reverse#The reverse() method reverses the order of the items in the list.\n",
    "Em_details=[\"Raju\",25,\"Engineer\",50000.0]\n",
    "Em_details.reverse()  # This will reverse the order of the items in the list    \n",
    "print(Em_details)  # This will print the reversed list"
   ]
  },
  {
   "cell_type": "code",
   "execution_count": 34,
   "id": "ae232e0d",
   "metadata": {},
   "outputs": [
    {
     "name": "stdout",
     "output_type": "stream",
     "text": [
      "[]\n"
     ]
    }
   ],
   "source": [
    "#To clear the list:\n",
    "Em_details=[\"Raju\",25,\"Engineer\",50000.0]\n",
    "Em_details.clear()\n",
    "print(Em_details)"
   ]
  },
  {
   "cell_type": "code",
   "execution_count": null,
   "id": "84834825",
   "metadata": {},
   "outputs": [
    {
     "name": "stdout",
     "output_type": "stream",
     "text": [
      "[3, 4, 5]\n",
      "[1, 2, 3, 4, 5]\n",
      "[6, 7, 8, 9, 10]\n",
      "[1, 3, 5, 7, 9]\n"
     ]
    }
   ],
   "source": [
    "##Slicing the List:\n",
    "#Slicing is used to access a portion of the list by specifying a range of indices.\n",
    "Numbers = [1, 2, 3, 4, 5, 6, 7, 8, 9, 10]\n",
    "print(Numbers[2:5])  # This will print the items from index 2 to index 4 (5 is not included)    \n",
    "print(Numbers[:5])\n",
    "print(Numbers[5:])  # This will print the items from index 5 to the end of the list\n",
    "print(Numbers[::2]) # skips every second item in the list, starting from the first item.\n",
    "\n",
    "\n"
   ]
  },
  {
   "cell_type": "code",
   "execution_count": 14,
   "id": "e989789b",
   "metadata": {},
   "outputs": [
    {
     "name": "stdout",
     "output_type": "stream",
     "text": [
      "Apple\n",
      "Banana\n",
      "Cherry\n",
      "Orange\n"
     ]
    }
   ],
   "source": [
    "#Iteratig through a list:Which is \n",
    "Fruits = [\"Apple\", \"Banana\", \"Cherry\", \"Orange\"]\n",
    "for x in Fruits:\n",
    "    print(x)  # This will print each fruit in the list"
   ]
  },
  {
   "cell_type": "code",
   "execution_count": null,
   "id": "12f6ef7f",
   "metadata": {},
   "outputs": [
    {
     "name": "stdout",
     "output_type": "stream",
     "text": [
      "Index: 0, Em_details: Raju\n",
      "Index: 1, Em_details: 25\n",
      "Index: 2, Em_details: Engineer\n",
      "Index: 3, Em_details: 50000.0\n"
     ]
    }
   ],
   "source": [
    "# Iterating through list with index:\n",
    "Em_details = [\"Raju\", 25, \"Engineer\", 50000.0]\n",
    "for index,Em_details in enumerate(Em_details):#enumarate is used to get the index and the value of the item in the list\n",
    "    #print(index,Numbers)\n",
    "    print(f\"Index: {index}, Em_details: {Em_details}\")  # This will print the index and the corresponding number in the list"
   ]
  },
  {
   "cell_type": "code",
   "execution_count": 13,
   "id": "112a3c7a",
   "metadata": {},
   "outputs": [
    {
     "name": "stdout",
     "output_type": "stream",
     "text": [
      "['Raju', 'Rani']\n"
     ]
    }
   ],
   "source": [
    "# List Comprehension:which means it offers a shorter syntax when you want to create a new list based on the values of existing list.\n",
    "New_joinies=[\"Raju\",\"Amala\",\"Rani\",\"Manoj\"]\n",
    "New_joinies2=[]\n",
    "for x in New_joinies:\n",
    "    if \"R\" in x:\n",
    "        New_joinies2.append(x)\n",
    "print(New_joinies2)        \n",
    "        \n",
    "        \n",
    "    "
   ]
  },
  {
   "cell_type": "code",
   "execution_count": null,
   "id": "bbb4f445",
   "metadata": {},
   "outputs": [
    {
     "name": "stdout",
     "output_type": "stream",
     "text": [
      "[1, 4, 9, 16, 25, 36]\n"
     ]
    }
   ],
   "source": [
    "sqare_numbers =[x**2 for x in range(1,7)] # List comprehension\n",
    "print(sqare_numbers)  # This will print the list of square numbers from 1 to 6"
   ]
  },
  {
   "cell_type": "code",
   "execution_count": 19,
   "id": "bad47153",
   "metadata": {},
   "outputs": [
    {
     "name": "stdout",
     "output_type": "stream",
     "text": [
      "Even numbers: [4, 16, 36]\n"
     ]
    }
   ],
   "source": [
    "##List Comprehension using If condition:\n",
    "sqare_numbers =[x**2 for x in range(1,7)if x%2==0]  # This will create a list of square numbers from 1 to 6, but only for even numbers]\n",
    "print(\"Even numbers:\",sqare_numbers)  # This will print the list of square numbers for even numbers only    "
   ]
  },
  {
   "cell_type": "code",
   "execution_count": null,
   "id": "d3d83db5",
   "metadata": {},
   "outputs": [
    {
     "name": "stdout",
     "output_type": "stream",
     "text": [
      "[4, 16, 36, 64]\n",
      "[[[1, 2, 3], 4], [[1, 2, 3], 16], [[1, 2, 3], 36], [[1, 2, 3], 64], [[4, 5, 6], 4], [[4, 5, 6], 16], [[4, 5, 6], 36], [[4, 5, 6], 64], [[7, 8, 9], 4], [[7, 8, 9], 16], [[7, 8, 9], 36], [[7, 8, 9], 64]]\n"
     ]
    }
   ],
   "source": [
    "##Nested List Comprehension:\n",
    "#Nested list comprehension is a way to create a new list by applying an operation to each item in a nested list.\n",
    "List1 = [[1, 2, 3], [4, 5, 6], [7, 8, 9]]\n",
    "List2 =[x**2 for sublist in List1 for x in sublist if x%2==0]#sublist is used to iterate through the sublists in List1 and x is used to iterate through the items in the sublist\n",
    "print(List2)\n",
    "# This will create a new list with the square of each item in List1 that is even\n",
    "combined_List = [[i,j]for i in List1 for j in List2]\n",
    "print(combined_List)  # This will print the new list with the square of each item in"
   ]
  },
  {
   "cell_type": "code",
   "execution_count": 27,
   "id": "fd40d705",
   "metadata": {},
   "outputs": [
    {
     "name": "stdout",
     "output_type": "stream",
     "text": [
      "[4, 5, 4, 5]\n"
     ]
    }
   ],
   "source": [
    "## List Coprehension with functions:\n",
    "New_joinies=[\"Raju\",\"Amala\",\"Rani\",\"Manoj\"]\n",
    "# List comprehension can also be used with functions to create a new list based on the results of applying a function to each item in the original list.\n",
    "Length=[len(New_joinies)for New_joinies  in New_joinies]\n",
    "print(Length)  # This will print the length of each item in the New_joinies list\n"
   ]
  },
  {
   "cell_type": "code",
   "execution_count": null,
   "id": "70d8a763",
   "metadata": {},
   "outputs": [
    {
     "name": "stdout",
     "output_type": "stream",
     "text": [
      "['Raju', 'Amala', 'Rani', 'Manoj', 'Sita']\n"
     ]
    }
   ],
   "source": [
    "## Copying a List:\n",
    "#The copy() method is used to create a shallow copy of the list, which means it\n",
    "New_joinies=[\"Raju\",\"Amala\",\"Rani\",\"Manoj\"]\n",
    "New_joinies2=New_joinies.copy()  # This will create a copy of the New_joinies list\n",
    "New_joinies2.append(\"Sita\")  # Appending a new item to the copied\n",
    "print(New_joinies2) "
   ]
  },
  {
   "cell_type": "code",
   "execution_count": 42,
   "id": "f01d023a",
   "metadata": {},
   "outputs": [
    {
     "name": "stdout",
     "output_type": "stream",
     "text": [
      "Found Raju in the list\n",
      "['Kamali', 'Koda', 'Kavya', 'Raju', 'Ramya']\n"
     ]
    }
   ],
   "source": [
    "#List creation by unsing split and aplying few conditions:\n",
    "a=(input(\"Enter the value \").split())\n",
    "for i in a:\n",
    "    if i == \"Raju\":\n",
    "        print(\"Found Raju in the list\") \n",
    "        break\n",
    "print(a)  # This will print the list created by splitting the input string"
   ]
  },
  {
   "cell_type": "code",
   "execution_count": 1,
   "id": "16bba5ea",
   "metadata": {},
   "outputs": [
    {
     "name": "stdout",
     "output_type": "stream",
     "text": [
      "Tuple Example: ('Raju', 25, 'Engineer', 50000.0)\n"
     ]
    }
   ],
   "source": [
    "#Tuple:\n",
    "#Tuples are used to store multiple items in a single variable, similar to lists.\n",
    "#Tuples are created using parentheses () and can contain items of different data types.\n",
    "tuple_example = (\"Raju\", 25, \"Engineer\", 50000.0)\n",
    "print(\"Tuple Example:\", tuple_example)  # This will print the tuple example"
   ]
  },
  {
   "cell_type": "code",
   "execution_count": 2,
   "id": "44d7d695",
   "metadata": {},
   "outputs": [
    {
     "ename": "AttributeError",
     "evalue": "'tuple' object has no attribute 'replace'",
     "output_type": "error",
     "traceback": [
      "\u001b[31m---------------------------------------------------------------------------\u001b[39m",
      "\u001b[31mAttributeError\u001b[39m                            Traceback (most recent call last)",
      "\u001b[36mCell\u001b[39m\u001b[36m \u001b[39m\u001b[32mIn[2]\u001b[39m\u001b[32m, line 4\u001b[39m\n\u001b[32m      1\u001b[39m \u001b[38;5;66;03m# In Tuples, the items are ordered, unchangeable, and allow duplicate values.\u001b[39;00m\n\u001b[32m      2\u001b[39m \u001b[38;5;66;03m#Tuples are immutable, meaning once created, their items cannot be changed or modified.\u001b[39;00m\n\u001b[32m      3\u001b[39m tuple_example = (\u001b[33m\"\u001b[39m\u001b[33mRaju\u001b[39m\u001b[33m\"\u001b[39m, \u001b[32m25\u001b[39m, \u001b[33m\"\u001b[39m\u001b[33mEngineer\u001b[39m\u001b[33m\"\u001b[39m, \u001b[32m50000.0\u001b[39m)\n\u001b[32m----> \u001b[39m\u001b[32m4\u001b[39m \u001b[43mtuple_example\u001b[49m\u001b[43m.\u001b[49m\u001b[43mreplace\u001b[49m(\u001b[33m\"\u001b[39m\u001b[33mEngineer\u001b[39m\u001b[33m\"\u001b[39m, \u001b[33m\"\u001b[39m\u001b[33mData Scientist\u001b[39m\u001b[33m\"\u001b[39m)  \u001b[38;5;66;03m# This will not change the tuple as tuples are immutable\u001b[39;00m\n",
      "\u001b[31mAttributeError\u001b[39m: 'tuple' object has no attribute 'replace'"
     ]
    }
   ],
   "source": [
    "# In Tuples, the items are ordered, unchangeable, and allow duplicate values.\n",
    "#Tuples are immutable, meaning once created, their items cannot be changed or modified.\n",
    "tuple_example = (\"Raju\", 25, \"Engineer\", 50000.0)\n",
    "tuple_example.replace(\"Engineer\", \"Data Scientist\")  # This will not change the tuple as tuples are immutable"
   ]
  },
  {
   "cell_type": "code",
   "execution_count": null,
   "id": "44633cc2",
   "metadata": {},
   "outputs": [
    {
     "name": "stdout",
     "output_type": "stream",
     "text": [
      "(1, 2, 3, 4, 5, 6, 7, 8, 9, 10)\n"
     ]
    }
   ],
   "source": [
    "##Concatenate tuples:\n",
    "tpl=(1,2,3,4,5)\n",
    "tp2=(6,7,8,9,10)\n",
    "print(tpl + tp2)  # This will concatenate the two tuples\n",
    "\n",
    " # This will raise an error as tuples do not have an append method"
   ]
  },
  {
   "cell_type": "code",
   "execution_count": 11,
   "id": "9fb6dd32",
   "metadata": {},
   "outputs": [
    {
     "name": "stdout",
     "output_type": "stream",
     "text": [
      "55\n",
      "1\n",
      "10\n"
     ]
    }
   ],
   "source": [
    "print(sum(tpl+tp2))# This will sum the elements of the concatenated tuple\n",
    "print(min(tpl+tp2))# This will find the minimum value in the concatenated tuple\n",
    "print(max(tpl+tp2))# This will find the maximum value in the concatenated\n"
   ]
  },
  {
   "cell_type": "code",
   "execution_count": null,
   "id": "82805464",
   "metadata": {},
   "outputs": [
    {
     "name": "stdout",
     "output_type": "stream",
     "text": [
      "(1, 2, 3)\n",
      "1\n",
      "2\n",
      "3\n",
      "(4, 5, 6)\n",
      "4\n",
      "5\n",
      "6\n",
      "(7, 8, 9)\n",
      "7\n",
      "8\n",
      "9\n"
     ]
    }
   ],
   "source": [
    "#Tuple Operations:\n",
    "\n",
    "List1 = ((1, 2, 3), (4, 5, 6), (7, 8, 9))# Nested tuples\n",
    "for sub_tuple in List1:\n",
    "    print(sub_tuple) # This will print each sub-tuple in the nested tuple\n",
    "    for i in sub_tuple:\n",
    "        print(i)  # This will print each item in the sub-tuple without a new line\n"
   ]
  },
  {
   "cell_type": "code",
   "execution_count": 6,
   "id": "79295a44",
   "metadata": {},
   "outputs": [
    {
     "name": "stdout",
     "output_type": "stream",
     "text": [
      "Employee Details: {'First_Name': 'Rama', 'Middle_Name': 'Krishna', 'Last_Name': 'Ragava', 'Age': 31, 'Designation': 'Data Scientist', 'Salary': 50000.0}\n",
      "First_Name: Rama\n",
      "Middle_Name: Krishna\n",
      "Last_Name: Ragava\n",
      "Age: 31\n",
      "Designation: Data Scientist\n",
      "Salary: 50000.0\n"
     ]
    }
   ],
   "source": [
    "##Dictionary:#Dictionaries are used to store data values in key:value pairs.\n",
    "#Dictionaries are created using curly braces {} and can contain items of different data types.\n",
    "##Eg:\n",
    "Emloyee_details = {\"First_Name\":\"Rama\",\"Middle_Name\":\"Krishna\",\"Last_Name\":\"Ragava\",\"Age\":31,\"Designation\":\"Data Scientist\",\"Salary\":50000.0}\n",
    "print(\"Employee Details:\", Emloyee_details)  # This will print the dictionary with employee details\n",
    "for key, value in Emloyee_details.items():\n",
    "    print(f\"{key}: {value}\")  # This will print each key-value pair in the dictionary\n"
   ]
  },
  {
   "cell_type": "code",
   "execution_count": 10,
   "id": "8312383c",
   "metadata": {},
   "outputs": [
    {
     "name": "stdout",
     "output_type": "stream",
     "text": [
      "{'First_Name': 'Rama', 'Middle_Name': 'Krishna', 'Last_Name': 'Ragava', 'Age': 31, 'Designation': 'Data Scientist', 'Salary': 50000.0}\n",
      "First Name: Rama\n"
     ]
    }
   ],
   "source": [
    "#Accessing Dictionary Items:\n",
    "#Dictionary items can be accessed using their keys.\n",
    "#Eg:\n",
    "print(Emloyee_details)\n",
    "print(\"First Name:\", Emloyee_details[\"First_Name\"])  # This will print the value of the key \"First_Name\"pprint(\"Age:\", Emloyee_details[\"Age\"])  # This will print the value"
   ]
  },
  {
   "cell_type": "code",
   "execution_count": 9,
   "id": "03cd3a6f",
   "metadata": {},
   "outputs": [
    {
     "name": "stdout",
     "output_type": "stream",
     "text": [
      "Rama\n"
     ]
    }
   ],
   "source": [
    "#get() method:\n",
    "#The get() method is used to access the value of a key in the dictionary.\n",
    "print(Emloyee_details.get(\"First_Name\"))  # This will print"
   ]
  },
  {
   "cell_type": "code",
   "execution_count": 12,
   "id": "eb21b9fc",
   "metadata": {},
   "outputs": [
    {
     "name": "stdout",
     "output_type": "stream",
     "text": [
      "dict_keys(['First_Name', 'Middle_Name', 'Last_Name', 'Age', 'Designation', 'Salary'])\n"
     ]
    }
   ],
   "source": [
    "#how to access only the keys:\n",
    "print(Emloyee_details.keys())  # This will print the keys of the dictionary"
   ]
  },
  {
   "cell_type": "code",
   "execution_count": null,
   "id": "82859fae",
   "metadata": {},
   "outputs": [
    {
     "name": "stdout",
     "output_type": "stream",
     "text": [
      "{'First_Name': 'Rama', 'Middle_Name': 'Krishna', 'Last_Name': 'Ragava', 'Age': 31, 'Designation': 'Data Scientist', 'Salary': 50000.0}\n",
      "{'First_Name': 'Rama', 'Middle_Name': 'Krishna', 'Last_Name': 'Ragava', 'Age': 31, 'Designation': 'Data Scientist', 'Salary': 50000.0}\n",
      "{'First_Name': 'Seetha', 'Middle_Name': 'Rama', 'Last_Name': 'Ragava', 'Age': 31, 'Designation': 'Data Scientist', 'Salary': 50000.0}\n",
      "{'First_Name': 'Rama', 'Middle_Name': 'Krishna', 'Last_Name': 'Ragava', 'Age': 31, 'Designation': 'Data Scientist', 'Salary': 50000.0}\n"
     ]
    }
   ],
   "source": [
    "## Copying a Dictionary:\n",
    "#The copy() method is used to create a shallow copy of the dictionary, which means it\n",
    "#will create a new dictionary with the same key-value pairs as the original dictionary.\n",
    "Employee_details = {\"First_Name\":\"Rama\",\"Middle_Name\":\"Krishna\",\"Last_Name\":\"Ragava\",\"Age\":31,\"Designation\":\"Data Scientist\",\"Salary\":50000.0}\n",
    "Employee_details_copy1 =Employee_details.copy()  # This will create a copy of the Emloyee_details dictionary\n",
    "print(Employee_details)# This will print the original dictionary\n",
    "print(Employee_details_copy1)  # This will print the copied dictionary\n",
    "Employee_details[\"Middle_Name\"]=\"Rama\"#Changes made in original dict\n",
    "Employee_details[\"First_Name\"]=\"Seetha\"\n",
    "print(Employee_details)#original dict after changes\n",
    "print(Employee_details_copy1)# # This will print the copied dictionary after changes made in original dict\n"
   ]
  },
  {
   "cell_type": "code",
   "execution_count": 16,
   "id": "92d62d1f",
   "metadata": {},
   "outputs": [
    {
     "name": "stdout",
     "output_type": "stream",
     "text": [
      "{'Employee1': {'First_Name': 'Rama', 'Age': 31, 'Designation': 'Data Scientist'}, 'Employee2': {'First_Name': 'Krishna', 'Age': 28, 'Designation': 'Software Engineer'}, 'Employee3': {'First_Name': 'Ragava', 'Age': 35, 'Designation': 'Project Manager'}}\n",
      "Employee1\n",
      "Employee2\n",
      "Employee3\n"
     ]
    }
   ],
   "source": [
    "#Nested Dictionary:\n",
    "Employee_details = {\n",
    "    \"Employee1\": {\"First_Name\": \"Rama\", \"Age\": 31, \"Designation\": \"Data Scientist\"},\n",
    "    \"Employee2\": {\"First_Name\": \"Krishna\", \"Age\": 28, \"Designation\": \"Software Engineer\"},\n",
    "    \"Employee3\": {\"First_Name\": \"Ragava\", \"Age\": 35, \"Designation\": \"Project Manager\"}\n",
    "}\n",
    "print(Employee_details)\n",
    "for key in Employee_details.keys():\n",
    "    print(key)"
   ]
  },
  {
   "cell_type": "code",
   "execution_count": 17,
   "id": "ce738419",
   "metadata": {},
   "outputs": [
    {
     "name": "stdout",
     "output_type": "stream",
     "text": [
      "Employee1: {'First_Name': 'Rama', 'Age': 31, 'Designation': 'Data Scientist'}\n",
      "Employee2: {'First_Name': 'Krishna', 'Age': 28, 'Designation': 'Software Engineer'}\n",
      "Employee3: {'First_Name': 'Ragava', 'Age': 35, 'Designation': 'Project Manager'}\n"
     ]
    }
   ],
   "source": [
    "for key, value in Employee_details.items():\n",
    "    print(f\"{key}: {value}\")  # This will print each key-value pair in the nested dictionary"
   ]
  },
  {
   "cell_type": "code",
   "execution_count": 20,
   "id": "066c198f",
   "metadata": {},
   "outputs": [
    {
     "name": "stdout",
     "output_type": "stream",
     "text": [
      "Employee1:{'First_Name': 'Rama', 'Age': 31, 'Designation': 'Data Scientist'}\n",
      "  First_Name: Rama\n",
      "  Age: 31\n",
      "  Designation: Data Scientist\n",
      "Employee2:{'First_Name': 'Krishna', 'Age': 28, 'Designation': 'Software Engineer'}\n",
      "  First_Name: Krishna\n",
      "  Age: 28\n",
      "  Designation: Software Engineer\n",
      "Employee3:{'First_Name': 'Ragava', 'Age': 35, 'Designation': 'Project Manager'}\n",
      "  First_Name: Ragava\n",
      "  Age: 35\n",
      "  Designation: Project Manager\n"
     ]
    }
   ],
   "source": [
    "for Name,Details in Employee_details.items():\n",
    "    print(f\"{Name}:{Details}\")\n",
    "    for detail_key, detail_value in Details.items():\n",
    "        print(f\"  {detail_key}: {detail_value}\")\n",
    "    "
   ]
  },
  {
   "cell_type": "code",
   "execution_count": 29,
   "id": "e26ed09c",
   "metadata": {},
   "outputs": [
    {
     "name": "stdout",
     "output_type": "stream",
     "text": [
      "{0: 0, 1: 1, 2: 4, 3: 9, 4: 16, 5: 25, 6: 36, 7: 49, 8: 64, 9: 81, 10: 100}\n",
      "{0, 64, 4, 36, 100, 16}\n"
     ]
    }
   ],
   "source": [
    "#Dictionary Comprehension:\n",
    "#Dictionary comprehension is a concise way to create dictionaries using a single line of code.\n",
    "#Eg:\n",
    "square_numbers={X:X**2 for X in range(0,11)}\n",
    "print(square_numbers)  # This will print the dictionary with numbers as keys and their squares as values\n",
    "Evens={values for values in square_numbers.values() if values%2 ==0}  # This will create a new dictionary with even numbers from the square_numbers dictionary\n",
    "print(Evens)  # This will print the even numbers from the square_numbers dictionary\n",
    "#  # This will print the even numbers from the square_numbers dictionary"
   ]
  },
  {
   "cell_type": "code",
   "execution_count": null,
   "id": "b4029832",
   "metadata": {},
   "outputs": [
    {
     "name": "stdout",
     "output_type": "stream",
     "text": [
      "{1: 2, 2: 2, 3: 1, 4: 1, 5: 1, 6: 1, 7: 3}\n"
     ]
    }
   ],
   "source": [
    "##Counting the frequency of the items in the dictionary:\n",
    "numbers=[1,1,2,2,3,4,5,6,7,7,7]# General Mistakes the numbers or the values must be in either List or tuple but not in dictionary because if we have given the values in {} it will consider as set where set will not allow the duplicates.\n",
    "fre={}\n",
    "for num in numbers:\n",
    "    if num in fre:\n",
    "        fre[num]+= 1\n",
    "    else:\n",
    "        fre[num] = 1\n",
    "print(fre)"
   ]
  },
  {
   "cell_type": "code",
   "execution_count": null,
   "id": "70bc7dff",
   "metadata": {},
   "outputs": [
    {
     "name": "stdout",
     "output_type": "stream",
     "text": [
      "{'a': 1, 'b': 2, 'c': 3, 'd': 4}\n",
      "{'Employee1': {'First_Name': 'Rama', 'Age': 31, 'Designation': 'Data Scientist'}, 'Employee2': {'First_Name': 'Krishna', 'Age': 28, 'Designation': 'Software Engineer'}}\n"
     ]
    }
   ],
   "source": [
    "#Merge two dictionaries:\n",
    "#Eg:1\n",
    "num1 = {\"a\": 1, \"b\": 2}\n",
    "num2 = {\"c\": 3, \"d\": 4}\n",
    "merge_dict = {**num1, **num2}  # This will merge num1 and num2 into merge_dict\n",
    "print(merge_dict)  # This will print the merged dictionary\n",
    "#The update() method is used to merge two dictionaries.\n",
    "Employee_details1 = {\"Employee1\": {\"First_Name\": \"Rama\", \"Age\": 31, \"Designation\": \"Data Scientist\"}}\n",
    "Employee_details2 = {\"Employee2\": {\"First_Name\": \"Krishna\", \"Age\": 28, \"Designation\": \"Software Engineer\"}}\n",
    "Employee_details1.update(Employee_details2)  # This will merge Employee_details2 into Employee_details\n",
    "print(Employee_details1)"
   ]
  },
  {
   "cell_type": "code",
   "execution_count": null,
   "id": "a893dc9c",
   "metadata": {},
   "outputs": [
    {
     "name": "stdout",
     "output_type": "stream",
     "text": [
      "The name is : Laxmi\n"
     ]
    }
   ],
   "source": [
    "###Functions###\n",
    "#Functions are reusable blocks of code that perform a specific task.\n",
    "##def is used to define a function in Python.\n",
    "##Syntax: def(key word) function_name(parameters):\n",
    "                        #return value\n",
    "# A function is a block of code that only runs when it is called. You can pass\n",
    "def S(name):#Single perameter function:\n",
    "    print(\"The name is :\",name)\n",
    "S(name=\"Laxmi\")# Here laxmi is an argument passed to the function S\n",
    " "
   ]
  },
  {
   "cell_type": "code",
   "execution_count": 21,
   "id": "3e1f57ea",
   "metadata": {},
   "outputs": [
    {
     "name": "stdout",
     "output_type": "stream",
     "text": [
      "30\n"
     ]
    }
   ],
   "source": [
    "def sum(a,b):\n",
    "    print(a + b)  # This will print the sum of a and b\n",
    "sum(10,20)\n",
    "  "
   ]
  },
  {
   "cell_type": "code",
   "execution_count": null,
   "id": "832a8ff8",
   "metadata": {},
   "outputs": [
    {
     "name": "stdout",
     "output_type": "stream",
     "text": [
      "6\n"
     ]
    }
   ],
   "source": [
    "#Multiparameter function:\n",
    "\n",
    "def sum(a, b):\n",
    "    a = 1\n",
    "    b = 5\n",
    "    print(a + b)\n",
    "sum(a=20,b=10)  # This will print the sum of a and b, but the values of a and b inside the function will be used instead of the arguments passed"
   ]
  },
  {
   "cell_type": "code",
   "execution_count": null,
   "id": "fc7f9dbf",
   "metadata": {},
   "outputs": [
    {
     "name": "stdout",
     "output_type": "stream",
     "text": [
      "0\n",
      "0\n",
      "The given number does not follow the above if conditions\n",
      "2\n",
      "The given number does not follow the above if conditions\n",
      "4\n",
      "The given number does not follow the above if conditions\n",
      "6\n",
      "6\n",
      "The given number does not follow the above if conditions\n",
      "8\n",
      "The given number does not follow the above if conditions\n",
      "10\n",
      "The given number does not follow the above if conditions\n",
      "12\n",
      "12\n",
      "The given number does not follow the above if conditions\n",
      "14\n"
     ]
    }
   ],
   "source": [
    "## Looping through a function:and nested if conditions:\n",
    "def Ram(a,b):\n",
    "    for i in range(a,b):\n",
    "      if i%2 == 0:  # will print the even numbers from a to b-1\n",
    "        print(i)  \n",
    "        if i%3==0: \n",
    "          print(i)\n",
    "      else:\n",
    "        print(\"The given number does not follow the above if conditions\")\n",
    "   \n",
    "Ram(0, 15)  # This will call the function Ram with a=1 and b=10, printing numbers from 1 to 9\n"
   ]
  },
  {
   "cell_type": "code",
   "execution_count": 41,
   "id": "18d84291",
   "metadata": {},
   "outputs": [
    {
     "name": "stdout",
     "output_type": "stream",
     "text": [
      "Welcome kiran\n"
     ]
    }
   ],
   "source": [
    "##how to give value by using input:\n",
    "def Name(a):\n",
    "    print(\"Welcome\",a)\n",
    "n=input(\"Enter your name: \")\n",
    "Name(a=n)"
   ]
  },
  {
   "cell_type": "code",
   "execution_count": 53,
   "id": "ce651923",
   "metadata": {},
   "outputs": [
    {
     "name": "stdout",
     "output_type": "stream",
     "text": [
      "Welcome ('Raju', 'Ravali', 'Rani')\n"
     ]
    }
   ],
   "source": [
    "#arbitrary arguments:(*Perameter)\n",
    "#while trying to give mutiple arguments into single perameter then it is called as arbitary perameter function:\n",
    "#Eg:\n",
    "def Name(*a):\n",
    "  print(\"Welcome\", a)# This will print the welcome message with the arbitrary arguments passed\n",
    "Name(\"Raju\",\"Ravali\",\"Rani\")# it will print the given arguments in tuple\n",
    "\n",
    "\n"
   ]
  },
  {
   "cell_type": "code",
   "execution_count": null,
   "id": "38623da4",
   "metadata": {},
   "outputs": [
    {
     "name": "stdout",
     "output_type": "stream",
     "text": [
      "The given numbers are: {'n1': 23, 'n2': 56, 'n3': 89, 'n4': 56}\n"
     ]
    }
   ],
   "source": [
    "def a(**Numbers):\n",
    "    print(\"The given numbers are:\",Numbers)\n",
    "a(n1=23,n2=56,n3=89,n4=56)#Print thearguments in a dictionary format with key and value"
   ]
  },
  {
   "cell_type": "code",
   "execution_count": null,
   "id": "f0167176",
   "metadata": {},
   "outputs": [
    {
     "name": "stdout",
     "output_type": "stream",
     "text": [
      "Name: Raju\n",
      "Age: 25\n",
      "Profession: Data Analyst\n",
      "Salary: 50000\n"
     ]
    }
   ],
   "source": [
    "##** using forloop:\n",
    "def Emp_details(**details):\n",
    "    for key, value in details.items():\n",
    "        print(f\"{key}: {value}\")  # This will print each key-value pair in the dictionary\n",
    "Emp_details(Name=\"Raju\", Age=25, Profession=\"Data Analyst\", Salary=50000)  # This will call the function with keyword arguments, printing each key-value pair in the dictionary\n",
    " "
   ]
  },
  {
   "cell_type": "code",
   "execution_count": null,
   "id": "ccc1ee13",
   "metadata": {},
   "outputs": [
    {
     "name": "stdout",
     "output_type": "stream",
     "text": [
      "Outer function\n",
      "Inner function\n"
     ]
    }
   ],
   "source": [
    "##Nested functions:\n",
    "def outer_fun():\n",
    "     print(\"Outer function\")#outer function\n",
    "     def inner_fun():\n",
    "        print(\"Inner function\")#inner function\n",
    "     inner_fun()\n",
    "outer_fun() "
   ]
  },
  {
   "cell_type": "code",
   "execution_count": null,
   "id": "f2f3aeaa",
   "metadata": {},
   "outputs": [],
   "source": [
    "##Defing modules:\n"
   ]
  },
  {
   "cell_type": "code",
   "execution_count": 22,
   "id": "0cfe2a56",
   "metadata": {},
   "outputs": [
    {
     "name": "stdout",
     "output_type": "stream",
     "text": [
      "{25, 21}\n"
     ]
    }
   ],
   "source": [
    "x=[21,15,10,18,25]\n",
    "def myFun(age):\n",
    "    return age > 18  # This function checks if the age is greater than or equal to 18\n",
    "\n",
    "adult= filter(myFun,x)\n",
    "print(set(adult))  # This will print the list of adults based on the condition defined in myFun\n"
   ]
  },
  {
   "cell_type": "code",
   "execution_count": null,
   "id": "ce1edded",
   "metadata": {},
   "outputs": [],
   "source": [
    "##Arrays:\n",
    "# append()\tAdds an element at the end of the list\n",
    "# clear()\tRemoves all the elements from the list\n",
    "# copy()\tReturns a copy of the list\n",
    "# count()\tReturns the number of elements with the specified value\n",
    "# extend()\tAdd the elements of a list (or any iterable), to the end of the current list\n",
    "# index()\tReturns the index of the first element with the specified value\n",
    "# insert()\tAdds an element at the specified position\n",
    "# pop()\t    Removes the element at the specified position\n",
    "# remove()\tRemoves the first item with the specified value\n",
    "# reverse()\tReverses the order of the list\n",
    "# sort()\tSorts the list\n",
    "###Note:Python does not have built-in support for Arrays, but Python Lists can be used instead"
   ]
  }
 ],
 "metadata": {
  "kernelspec": {
   "display_name": "Python 3",
   "language": "python",
   "name": "python3"
  },
  "language_info": {
   "codemirror_mode": {
    "name": "ipython",
    "version": 3
   },
   "file_extension": ".py",
   "mimetype": "text/x-python",
   "name": "python",
   "nbconvert_exporter": "python",
   "pygments_lexer": "ipython3",
   "version": "3.12.0"
  }
 },
 "nbformat": 4,
 "nbformat_minor": 5
}
