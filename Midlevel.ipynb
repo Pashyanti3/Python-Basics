{
 "cells": [
  {
   "cell_type": "code",
   "execution_count": 8,
   "id": "0062bac1",
   "metadata": {},
   "outputs": [
    {
     "name": "stdout",
     "output_type": "stream",
     "text": [
      "The sum is: 68\n"
     ]
    }
   ],
   "source": [
    "###Functions :\n",
    "###What is a function?\n",
    "##A function is a block of code that performs a specific task.\n",
    "###Why use functions?\n",
    "##Functions help to organize code, make it reusable, and improve readability.\n",
    "#Eg:num2\n",
    "num1=int(input(\"Enter a number1:\"))\n",
    "num2=int(input(\"Enter a number2:\"))\n",
    "print(\"The sum is:\",num1+num2)\n",
    "     "
   ]
  },
  {
   "cell_type": "code",
   "execution_count": null,
   "id": "54cf3716",
   "metadata": {},
   "outputs": [
    {
     "name": "stdout",
     "output_type": "stream",
     "text": [
      "The sum of the given two numbers is: 6\n"
     ]
    }
   ],
   "source": [
    "##Adding the function to the sumof two numbers:forther use\n",
    "def add_numbers(a,b):#def is defining the function,add_numbers is the name of the function and a,b are the arguments ofthe function...\n",
    "    print (\"The sum of the given two numbers is:\",a+b)\n",
    "add_numbers(2,4)##Calling the function which is must to get the output\n"
   ]
  },
  {
   "cell_type": "code",
   "execution_count": null,
   "id": "b855b9b8",
   "metadata": {},
   "outputs": [
    {
     "name": "stdout",
     "output_type": "stream",
     "text": [
      "The sum of the given two numbers is: 8\n",
      "The sum of the given two numbers is: 30\n"
     ]
    }
   ],
   "source": [
    "## reusability\n",
    "### By using functions, we can reuse the code without rewriting it.\n",
    "### For example, we can call the add_numbers function multiple times with different arguments.\n",
    "add_numbers(3,5)\n",
    "add_numbers(10,20)##In this way we can reuse the function n number of times in our code without rewriting it.\n"
   ]
  },
  {
   "cell_type": "code",
   "execution_count": 11,
   "id": "b4b50d1f",
   "metadata": {},
   "outputs": [
    {
     "name": "stdout",
     "output_type": "stream",
     "text": [
      "4 is even\n",
      "7 is odd\n"
     ]
    }
   ],
   "source": [
    "##Eg2:creating the function for even numbers\n",
    "def even_numbers(n):\n",
    "    if n%2==0:\n",
    "        print(n,\"is even\")\n",
    "    else:\n",
    "        print(n,\"is odd\")\n",
    "        \n",
    "even_numbers(4)\n",
    "even_numbers(7)\n"
   ]
  },
  {
   "cell_type": "code",
   "execution_count": 13,
   "id": "2a2f6a09",
   "metadata": {},
   "outputs": [
    {
     "name": "stdout",
     "output_type": "stream",
     "text": [
      "The sum is: 8\n",
      "The sum is: 15\n"
     ]
    }
   ],
   "source": [
    "###Default perameters:\n",
    "##what is default parameters in functions?\n",
    "## default arguments is nothing but giving the values to the parameters in the parameter function it self\n",
    "## for example:\n",
    "def add_numbers(a, b=5):\n",
    "    print(\"The sum is:\", a + b)\n",
    "\n",
    "add_numbers(3)#Since we have already assigned the value for \"b\" in the function definition, we can call the function with just one argument.\n",
    "add_numbers(10)\n"
   ]
  },
  {
   "cell_type": "code",
   "execution_count": null,
   "id": "753980c8",
   "metadata": {},
   "outputs": [
    {
     "name": "stdout",
     "output_type": "stream",
     "text": [
      "The sum is: 9\n",
      "The sum is: 11\n"
     ]
    }
   ],
   "source": [
    "#Eg:2\n",
    "add_numbers(4)\n",
    "add_numbers(4,7)#in this we have given the value for \"b\" as 7 so it will consider 7 as b value"
   ]
  },
  {
   "cell_type": "code",
   "execution_count": 17,
   "id": "467a3150",
   "metadata": {},
   "outputs": [
    {
     "name": "stdout",
     "output_type": "stream",
     "text": [
      "The length of the Variable is: 4\n"
     ]
    }
   ],
   "source": [
    "##Variable length arguments:\n",
    "#What is the length of the varialble?\n",
    "#Length is nothing but the no of characters in the given arguments.\n",
    "##Eg:\n",
    "Name= \"John\"\n",
    "print(\"The length of the Variable is:\",len(Name))\n"
   ]
  },
  {
   "cell_type": "code",
   "execution_count": null,
   "id": "d463b0d8",
   "metadata": {},
   "outputs": [
    {
     "name": "stdout",
     "output_type": "stream",
     "text": [
      "Positional argument: 1\n",
      "Positional argument: 2\n",
      "Positional argument: 3\n",
      "Positional argument: Ramanvi\n",
      "Positional argument: 0.57\n"
     ]
    }
   ],
   "source": [
    "#Positional arguments:\n",
    "#Eg:1\n",
    "def Pos_Arg(*args):\n",
    "    for position in args:\n",
    "        print(\"Positional argument:\", position)\n",
    "Pos_Arg(1,2,3,\"Ramanvi\",0.57)#If we have given the data in a particular order, it will be considered as positional arguments.\n"
   ]
  },
  {
   "cell_type": "code",
   "execution_count": 24,
   "id": "b71e869a",
   "metadata": {},
   "outputs": [
    {
     "name": "stdout",
     "output_type": "stream",
     "text": [
      "name: John\n",
      "age: 30\n",
      "city: New York\n"
     ]
    }
   ],
   "source": [
    "##Key Value Arguments:\n",
    "#Eg:1\n",
    "def Key_Arg(**kwargs):\n",
    "    for key, value in kwargs.items():\n",
    "        print(f\"{key}: {value}\")\n",
    "Key_Arg(name=\"John\", age=30, city=\"New York\")\n"
   ]
  },
  {
   "cell_type": "code",
   "execution_count": 1,
   "id": "fdcfca5e",
   "metadata": {},
   "outputs": [
    {
     "data": {
      "text/plain": [
       "9"
      ]
     },
     "execution_count": 1,
     "metadata": {},
     "output_type": "execute_result"
    }
   ],
   "source": [
    "##Return Statement:\n",
    "##Return statement in Python is used to exit a function and return a value to the caller.\n",
    "###Eg:\n",
    "def square(num):\n",
    "    return num**2\n",
    "square(3)"
   ]
  },
  {
   "cell_type": "code",
   "execution_count": 2,
   "id": "ef8a7a24",
   "metadata": {},
   "outputs": [
    {
     "name": "stdout",
     "output_type": "stream",
     "text": [
      "Total Cart Value: 390\n"
     ]
    }
   ],
   "source": [
    "##Few more functions:1.Supermarket billing system\n",
    "def Cart_total(Items):\n",
    "    total=0\n",
    "    for item in Items:\n",
    "        total+=item['price']*item['quantity']\n",
    "    return total\n",
    "Items=[{\"Product\":\"Apple\",\"quantity\":2,\"price\":50},{\"Product\":\"Banana\",\"quantity\":5,\"price\":20},{\"Product\":\"Soaps\",\"quantity\":2,\"price\":45},{\"Product\":\"Dal\",\"quantity\":2,\"price\":50}]\n",
    "print(\"Total Cart Value:\",Cart_total(Items))"
   ]
  },
  {
   "cell_type": "code",
   "execution_count": 3,
   "id": "521332d6",
   "metadata": {},
   "outputs": [
    {
     "name": "stdout",
     "output_type": "stream",
     "text": [
      "Total Cart Value with Tax: 429.0\n"
     ]
    }
   ],
   "source": [
    "##Super market billing including tax:\n",
    "def Cart_total_with_tax(Items, tax_rate):\n",
    "    total=0\n",
    "    for item in Items:\n",
    "        total+=item['price']*item['quantity']\n",
    "    return total + (total * tax_rate)\n",
    "Items=[{\"Product\":\"Apple\",\"quantity\":2,\"price\":50},{\"Product\":\"Banana\",\"quantity\":5,\"price\":20},{\"Product\":\"Soaps\",\"quantity\":2,\"price\":45},{\"Product\":\"Dal\",\"quantity\":2,\"price\":50}]\n",
    "print(\"Total Cart Value with Tax:\",Cart_total_with_tax(Items, 0.1))"
   ]
  },
  {
   "cell_type": "code",
   "execution_count": null,
   "id": "18b89615",
   "metadata": {},
   "outputs": [
    {
     "name": "stdout",
     "output_type": "stream",
     "text": [
      "15\n"
     ]
    }
   ],
   "source": [
    "###Lambda Functions:Syntax : Lambda arguments: expression\n",
    "##What is lambda function in Python?\n",
    "#A lambda function is a small anonymous function defined with the lambda keyword. It can take any number of arguments but can only have one expression. \n",
    "#Lambda functions are often used for short, throwaway functions that are not reused elsewhere.\n",
    "##Eg:\n",
    "add_numbers=lambda a,b:a+b #by using the lambda function we can reduce the size of the code\n",
    "print(add_numbers(5, 10))\n",
    "\n"
   ]
  },
  {
   "cell_type": "code",
   "execution_count": 3,
   "id": "41c70555",
   "metadata": {},
   "outputs": [
    {
     "name": "stdout",
     "output_type": "stream",
     "text": [
      "25\n"
     ]
    }
   ],
   "source": [
    "square=lambda x:x**2\n",
    "print(square(5))"
   ]
  },
  {
   "cell_type": "code",
   "execution_count": 16,
   "id": "66f30448",
   "metadata": {},
   "outputs": [
    {
     "name": "stdout",
     "output_type": "stream",
     "text": [
      "['APPLE', 'BANANA', 'CHERRY']\n"
     ]
    }
   ],
   "source": [
    "##Map Function:\n",
    "words=['apple','banana','cherry']\n",
    "upper_word=list(map(str.upper,words))\n",
    "print(upper_word)"
   ]
  },
  {
   "cell_type": "code",
   "execution_count": null,
   "id": "e1ee6c72",
   "metadata": {},
   "outputs": [
    {
     "name": "stdout",
     "output_type": "stream",
     "text": [
      "Incremented values: [2, 4, 6, 7, 10]\n"
     ]
    }
   ],
   "source": [
    "###Map Function with Lambda:\n",
    "A=[1,3,5,6,9]\n",
    "B=list(map(lambda A:A+1,A))\n",
    "print(\"Incremented values:\", B)\n"
   ]
  },
  {
   "cell_type": "code",
   "execution_count": null,
   "id": "59d1ccd6",
   "metadata": {},
   "outputs": [
    {
     "name": "stdout",
     "output_type": "stream",
     "text": [
      "Squared values: [1, 9, 25, 36, 81]\n"
     ]
    }
   ],
   "source": [
    "##Map function along with Lambda:\n",
    "A=[1,3,5,6,9]\n",
    "B=list(map(lambda x: x**2, A))  # Using map to apply a function to each element in A\n",
    "print(\"Squared values:\", B)"
   ]
  },
  {
   "cell_type": "code",
   "execution_count": 8,
   "id": "dc0c766e",
   "metadata": {},
   "outputs": [
    {
     "name": "stdout",
     "output_type": "stream",
     "text": [
      "Multiplied values: [4, 15, 30, 42, 72]\n"
     ]
    }
   ],
   "source": [
    "##Multiple parameters:\n",
    "A=[1,3,5,6,9]\n",
    "B=[4,5,6,7,8]\n",
    "Multi=list(map(lambda x,y:x*y,A,B))\n",
    "print(\"Multiplied values:\", Multi)  # Print the result of the multiplication"
   ]
  },
  {
   "cell_type": "code",
   "execution_count": null,
   "id": "3f1899a5",
   "metadata": {},
   "outputs": [
    {
     "name": "stdout",
     "output_type": "stream",
     "text": [
      "Employee Details: ['Name: John,\\\\ Age: 30, \\\\Experience: 5 years', 'Name: Ram,\\\\ Age: 32, \\\\Experience: 3 years']\n"
     ]
    }
   ],
   "source": [
    "###Map function using Dict:\n",
    "\n",
    "\n",
    "\n",
    "def Emp_details(p):\n",
    "    return f\"Name: {p['Name']},\\\\ Age: {p['Age']}, \\\\Experience: {p['Experience']} years\" ##\\\\ - Given to seperate the details\n",
    "Persons=[{\"Name\": \"John\", \"Age\": 30, \"Experience\": 5},##input Employee details in dictionary format\n",
    "         {\"Name\": \"Ram\", \"Age\": 32, \"Experience\": 3}\n",
    "]# Example call to the function with sample data\n",
    "Details=list(map(Emp_details, Persons)) ##Details is a variable which used to store the data\n",
    "print(\"Employee Details:\",Details)  # Print the result of the map function"
   ]
  },
  {
   "cell_type": "code",
   "execution_count": 22,
   "id": "5e0a2b6d",
   "metadata": {},
   "outputs": [
    {
     "name": "stdout",
     "output_type": "stream",
     "text": [
      "Even numbers: [2, 4, 6, 8, 10]\n",
      "Numbers greater than five: [6, 7, 8, 9, 10]\n"
     ]
    }
   ],
   "source": [
    "#Filter Function:\n",
    "#Filter is nothing but extracting the subset of elements from an iterable based on a condition.\n",
    "#Syntax :filter(Condition,list)\n",
    "#EG:\n",
    "Lst=[1,2,3,4,5,6,7,8,9,10]\n",
    "even_numbers=list(filter(lambda x: x % 2 == 0, Lst))\n",
    "greater_than_five=list(filter(lambda x: x > 5, Lst))\n",
    "print(\"Even numbers:\", even_numbers)  # Print the filtered even numbers\n",
    "print(\"Numbers greater than five:\", greater_than_five)  # Print the filtered numbers greater than five"
   ]
  },
  {
   "cell_type": "code",
   "execution_count": 25,
   "id": "a57bdd16",
   "metadata": {},
   "outputs": [
    {
     "name": "stdout",
     "output_type": "stream",
     "text": [
      "Filtered list with multiple conditions: [6, 8, 10]\n"
     ]
    }
   ],
   "source": [
    "##Filter using multiple condiions:\n",
    "def filter_multiple_conditions(lst):\n",
    "    return list(filter(lambda x: x % 2 == 0 and x > 5, lst))\n",
    "filtered_list = filter_multiple_conditions(Lst)\n",
    "print(\"Filtered list with multiple conditions:\", filtered_list)  # Print the filtered list with multiple conditions"
   ]
  },
  {
   "cell_type": "code",
   "execution_count": null,
   "id": "6d038329",
   "metadata": {},
   "outputs": [],
   "source": [
    "##File Handling and Error Handling:\n",
    "#whenever we do any operations on file known as file handling.\n",
    "\n",
    "##Python,file handling operations such as reading and writing files, as well as handling exceptions that may occur during these operations.\n",
    "\n",
    "###File Handling:\n",
    "\n",
    "# The key function for working with files in Python is the open() function.\n",
    "\n",
    "# \"r\" - Read - Default value. Opens a file for reading, error if the file does not exist\n",
    "\n",
    "# \"a\" - Append - Opens a file for appending, creates the file if it does not exist\n",
    "\n",
    "# \"w\" - Write - Opens a file for writing, creates the file if it does not exist\n",
    "\n",
    "# \"x\" - Create - Creates the specified file, returns an error if the file exists\n",
    "\n",
    "# \"t\" - Text - Default value. Text mode\n",
    "\n",
    "# \"b\" - Binary - Binary mode (e.g. images)"
   ]
  },
  {
   "cell_type": "code",
   "execution_count": null,
   "id": "f6376f9c",
   "metadata": {},
   "outputs": [
    {
     "name": "stdout",
     "output_type": "stream",
     "text": [
      "Hello Welcome to Python..\n",
      "Python is one of the programming language...\n"
     ]
    }
   ],
   "source": [
    "##Open: To perform any operation on a file step 1 is we need to open the file:\n",
    "#read()\n",
    "file=open(\"Test.txt\",mode=\"r\")##Test.txt file name which needs to be opened and mode r because of this the file will be opened in read mode\n",
    "a=file.read()#by assigning the variable \"a\",which means storing the file content in read mode \n",
    "file.close()#Close is used to close the file \n",
    "print(a)"
   ]
  },
  {
   "cell_type": "code",
   "execution_count": null,
   "id": "4f25263d",
   "metadata": {},
   "outputs": [
    {
     "name": "stdout",
     "output_type": "stream",
     "text": [
      "Hello Welcome to Python..\n",
      "\n"
     ]
    }
   ],
   "source": [
    "##Readline:readline()\n",
    "file=open(\"Test.txt\",\"r\")\n",
    "a=file.readline()#reading the first line of the file by unsing the readline()method\n",
    "file.close()\n",
    "print(a)"
   ]
  },
  {
   "cell_type": "code",
   "execution_count": 46,
   "id": "a2e3b9c7",
   "metadata": {},
   "outputs": [
    {
     "name": "stdout",
     "output_type": "stream",
     "text": [
      "['This is a new line added to the file.This is a new line added to the file.This is a new line added to the file.This is a new line added to the file.   This is a new line added to the file.   This is a new line added to the file.   This is a new line added to the file.   This is a new line added to the file.   This is a new line added to the file.   This line is new line which added by using append mode.']\n"
     ]
    }
   ],
   "source": [
    "##Readlines:readlines()\n",
    "file=open(\"Test.txt\",\"r\")\n",
    "a=file.readlines()#reading all the lines of the file \\n indicates the end of a line.\n",
    "file.close()\n",
    "print(a)"
   ]
  },
  {
   "cell_type": "code",
   "execution_count": 61,
   "id": "229e7533",
   "metadata": {},
   "outputs": [
    {
     "name": "stdout",
     "output_type": "stream",
     "text": [
      "hi h r u\n",
      "\n"
     ]
    }
   ],
   "source": [
    "##Reading specific line:by using the index\n",
    "file=open(\"Test.txt\",\"r\")\n",
    "a=file.readlines()\n",
    "file.close()\n",
    "print(a[1])"
   ]
  },
  {
   "cell_type": "code",
   "execution_count": 62,
   "id": "4bf0695b",
   "metadata": {},
   "outputs": [
    {
     "name": "stdout",
     "output_type": "stream",
     "text": [
      "['This is a new line added to the file.\\n', 'hi h r u\\n', '   This line is new line which added by using append mode.']\n"
     ]
    }
   ],
   "source": [
    "##Write mode:\n",
    "file=open(\"Test.txt\",mode=\"w\")##Test.txt file name which needs to be opened and mode w because of this the file will be opened in write mode\n",
    "file.write(\"This is a new line added to the file.\")##write() method is used to write the content to the file\n",
    "file.close()##Close is used to close the file\n",
    "##Whenever we use write mode and updated the data it will overwrite the data which is already present in the file\n",
    "print(a)"
   ]
  },
  {
   "cell_type": "code",
   "execution_count": 65,
   "id": "7edd5c81",
   "metadata": {},
   "outputs": [],
   "source": [
    "#To overcome the write mode drawback will use append mode:but append is also a write function there is no seperate mode as append in python in file handling methods:\n",
    "#append()\n",
    "file=open(\"Test.txt\",mode=\"a\")\n",
    "file.write(\"\\n This line is new line which added by using append mode.\")\n",
    "file.close()"
   ]
  },
  {
   "cell_type": "code",
   "execution_count": 69,
   "id": "78dd3f3e",
   "metadata": {},
   "outputs": [
    {
     "name": "stdout",
     "output_type": "stream",
     "text": [
      "Before writing:\n",
      " This is a new line added to the file.   This line is new line which added by using append mode.This line is added using r+ mode.\n",
      " This line is new line which added by using append mode.This line is added using r+ mode.This line is added using r+ mode.This line is added using r+ mode.\n",
      "After writing:\n",
      " This is a new line added to the file.   This line is new line which added by using append mode.This line is added using r+ mode.\n",
      " This line is new line which added by using append mode.This line is added using r+ mode.This line is added using r+ mode.This line is added using r+ mode.\n",
      "This line is added using r+ mode.\n"
     ]
    }
   ],
   "source": [
    "##r+ Mode:\n",
    "with open(\"Test.txt\", \"r+\") as file:\n",
    "    # Read existing content\n",
    "    content = file.read()\n",
    "    print(\"Before writing:\\n\", content)\n",
    "\n",
    "    # Move cursor to the end before writing new content\n",
    "    file.write(\"\\nThis line is added using r+ mode.\")\n",
    "\n",
    "    # Move cursor back to the beginning to read again\n",
    "    file.seek(0)\n",
    "    content = file.read()\n",
    "    print(\"After writing:\\n\", content)\n",
    "  \n"
   ]
  },
  {
   "cell_type": "markdown",
   "id": "bcdf32c0",
   "metadata": {},
   "source": [
    "1.Error handling:\n"
   ]
  },
  {
   "cell_type": "code",
   "execution_count": null,
   "id": "2524b035",
   "metadata": {},
   "outputs": [
    {
     "name": "stdout",
     "output_type": "stream",
     "text": [
      "<class 'int'>\n"
     ]
    }
   ],
   "source": [
    "a=3\n",
    "print(type(a))\n",
    "\n"
   ]
  },
  {
   "cell_type": "markdown",
   "id": "232d3d74",
   "metadata": {},
   "source": [
    "a=3,\n",
    "print(ty)"
   ]
  },
  {
   "cell_type": "code",
   "execution_count": null,
   "id": "ca9e6451",
   "metadata": {},
   "outputs": [],
   "source": []
  },
  {
   "cell_type": "code",
   "execution_count": null,
   "id": "7d3ba910",
   "metadata": {},
   "outputs": [],
   "source": []
  }
 ],
 "metadata": {
  "kernelspec": {
   "display_name": "base",
   "language": "python",
   "name": "python3"
  },
  "language_info": {
   "codemirror_mode": {
    "name": "ipython",
    "version": 3
   },
   "file_extension": ".py",
   "mimetype": "text/x-python",
   "name": "python",
   "nbconvert_exporter": "python",
   "pygments_lexer": "ipython3",
   "version": "3.12.7"
  }
 },
 "nbformat": 4,
 "nbformat_minor": 5
}
